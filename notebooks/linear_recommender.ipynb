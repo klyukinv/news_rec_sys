{
 "cells": [
  {
   "cell_type": "code",
   "execution_count": 1,
   "metadata": {
    "colab": {},
    "colab_type": "code",
    "id": "VdQXd5SULkJU"
   },
   "outputs": [],
   "source": [
    "import os\n",
    "os.environ['KAGGLE_USERNAME'] = \"klyukinv\"\n",
    "os.environ['KAGGLE_KEY'] = \"6fc43bd58892df21aa88d9f8ad6206ef\""
   ]
  },
  {
   "cell_type": "code",
   "execution_count": 4,
   "metadata": {
    "scrolled": true
   },
   "outputs": [
    {
     "name": "stdout",
     "output_type": "stream",
     "text": [
      "Collecting kaggle\n",
      "Collecting python-slugify (from kaggle)\n",
      "Requirement already satisfied: six>=1.10 in /usr/lib/python3/dist-packages (from kaggle) (1.11.0)\n",
      "Requirement already satisfied: python-dateutil in /usr/lib/python3/dist-packages (from kaggle) (2.6.1)\n",
      "Requirement already satisfied: requests in /usr/lib/python3/dist-packages (from kaggle) (2.18.4)\n",
      "Requirement already satisfied: tqdm in /usr/local/lib/python3.6/dist-packages (from kaggle) (4.32.2)\n",
      "Requirement already satisfied: urllib3<1.25,>=1.21.1 in /usr/lib/python3/dist-packages (from kaggle) (1.22)\n",
      "Requirement already satisfied: certifi in /usr/lib/python3/dist-packages (from kaggle) (2018.1.18)\n",
      "Collecting text-unidecode>=1.3 (from python-slugify->kaggle)\n",
      "  Using cached https://files.pythonhosted.org/packages/a6/a5/c0b6468d3824fe3fde30dbb5e1f687b291608f9473681bbf7dabbf5a87d7/text_unidecode-1.3-py2.py3-none-any.whl\n",
      "Installing collected packages: text-unidecode, python-slugify, kaggle\n",
      "Successfully installed kaggle-1.5.6 python-slugify-4.0.0 text-unidecode-1.3\n",
      "\u001b[33mWARNING: You are using pip version 19.1.1, however version 19.3.1 is available.\n",
      "You should consider upgrading via the 'pip install --upgrade pip' command.\u001b[0m\n"
     ]
    }
   ],
   "source": [
    "!pip install --user kaggle"
   ]
  },
  {
   "cell_type": "code",
   "execution_count": 9,
   "metadata": {
    "colab": {
     "base_uri": "https://localhost:8080/",
     "height": 197
    },
    "colab_type": "code",
    "id": "9wjVCoWXMOXC",
    "outputId": "41a796f3-2d86-40a6-a912-17b3f64d08eb"
   },
   "outputs": [
    {
     "name": "stdout",
     "output_type": "stream",
     "text": [
      "2018-hse-ml-competition-04.zip: Skipping, found more recently modified local copy (use --force to force download)\n",
      "Archive:  2018-hse-ml-competition-04.zip\n",
      "  inflating: items.json.gz           \n",
      "  inflating: random_benchmark.csv    \n",
      "  inflating: train.json.gz           \n"
     ]
    }
   ],
   "source": [
    "!kaggle competitions download -c 2018-hse-ml-competition-04\n",
    "!unzip 2018-hse-ml-competition-04.zip"
   ]
  },
  {
   "cell_type": "code",
   "execution_count": 7,
   "metadata": {
    "colab": {
     "base_uri": "https://localhost:8080/",
     "height": 323
    },
    "colab_type": "code",
    "id": "WC26JREPPT1r",
    "outputId": "e9e93e3b-7dce-421e-b6e5-f646d461b172"
   },
   "outputs": [
    {
     "name": "stdout",
     "output_type": "stream",
     "text": [
      "Collecting lightfm\n",
      "Requirement already satisfied: requests in /usr/lib/python3/dist-packages (from lightfm) (2.18.4)\n",
      "Requirement already satisfied: scipy>=0.17.0 in /usr/lib/python3/dist-packages (from lightfm) (0.19.1)\n",
      "Requirement already satisfied: numpy in /usr/local/lib/python3.6/dist-packages (from lightfm) (1.16.4)\n",
      "Installing collected packages: lightfm\n",
      "Successfully installed lightfm-1.15\n",
      "\u001b[33mWARNING: You are using pip version 19.1.1, however version 19.3.1 is available.\n",
      "You should consider upgrading via the 'pip install --upgrade pip' command.\u001b[0m\n"
     ]
    }
   ],
   "source": [
    "!pip install --user lightfm"
   ]
  },
  {
   "cell_type": "code",
   "execution_count": 20,
   "metadata": {
    "colab": {},
    "colab_type": "code",
    "id": "z9sXb9ueUFPu"
   },
   "outputs": [],
   "source": [
    "import gzip\n",
    "import shutil\n",
    "\n",
    "path = '../data/raw/'\n",
    "filenames = ['items.json.gz', 'train.json.gz']\n",
    "for filename_arch in filenames:\n",
    "    with gzip.open(path + filename_arch, 'rb') as f_in:\n",
    "        filename_new = path + '.'.join(filename_arch.split('.')[:-1])\n",
    "        with open(filename_new, 'wb') as f_out:\n",
    "            shutil.copyfileobj(f_in, f_out)"
   ]
  },
  {
   "cell_type": "code",
   "execution_count": 12,
   "metadata": {
    "colab": {
     "base_uri": "https://localhost:8080/",
     "height": 235
    },
    "colab_type": "code",
    "id": "21rjAkQn98Nd",
    "outputId": "a6bf4afb-9a6c-4075-cc9d-ff1f331f49eb"
   },
   "outputs": [
    {
     "name": "stdout",
     "output_type": "stream",
     "text": [
      "Collecting pymorphy2\n",
      "\u001b[?25l  Downloading https://files.pythonhosted.org/packages/a3/33/fff9675c68b5f6c63ec8c6e6ff57827dda28a1fa5b2c2d727dffff92dd47/pymorphy2-0.8-py2.py3-none-any.whl (46kB)\n",
      "\u001b[K     |████████████████████████████████| 51kB 716kB/s eta 0:00:011\n",
      "\u001b[?25hCollecting docopt>=0.6 (from pymorphy2)\n",
      "  Downloading https://files.pythonhosted.org/packages/a2/55/8f8cab2afd404cf578136ef2cc5dfb50baa1761b68c9da1fb1e4eed343c9/docopt-0.6.2.tar.gz\n",
      "Collecting dawg-python>=0.7 (from pymorphy2)\n",
      "  Downloading https://files.pythonhosted.org/packages/6a/84/ff1ce2071d4c650ec85745766c0047ccc3b5036f1d03559fd46bb38b5eeb/DAWG_Python-0.7.2-py2.py3-none-any.whl\n",
      "Collecting pymorphy2-dicts<3.0,>=2.4 (from pymorphy2)\n",
      "\u001b[?25l  Downloading https://files.pythonhosted.org/packages/02/51/2465fd4f72328ab50877b54777764d928da8cb15b74e2680fc1bd8cb3173/pymorphy2_dicts-2.4.393442.3710985-py2.py3-none-any.whl (7.1MB)\n",
      "\u001b[K     |████████████████████████████████| 7.1MB 3.2MB/s eta 0:00:01     |▏                               | 30kB 6.4MB/s eta 0:00:02\n",
      "\u001b[?25hBuilding wheels for collected packages: docopt\n",
      "  Building wheel for docopt (setup.py) ... \u001b[?25ldone\n",
      "\u001b[?25h  Stored in directory: /home/valeriy/.cache/pip/wheels/9b/04/dd/7daf4150b6d9b12949298737de9431a324d4b797ffd63f526e\n",
      "Successfully built docopt\n",
      "Installing collected packages: docopt, dawg-python, pymorphy2-dicts, pymorphy2\n",
      "Successfully installed dawg-python-0.7.2 docopt-0.6.2 pymorphy2-0.8 pymorphy2-dicts-2.4.393442.3710985\n",
      "\u001b[33mWARNING: You are using pip version 19.1.1, however version 19.3.1 is available.\n",
      "You should consider upgrading via the 'pip install --upgrade pip' command.\u001b[0m\n"
     ]
    }
   ],
   "source": [
    "!pip install --user pymorphy2"
   ]
  },
  {
   "cell_type": "code",
   "execution_count": 5,
   "metadata": {
    "colab": {},
    "colab_type": "code",
    "id": "DhYYzZmPX1f0"
   },
   "outputs": [],
   "source": [
    "import scipy.sparse\n",
    "import json\n",
    "import string\n",
    "import pymorphy2\n",
    "\n",
    "import pandas as pd\n",
    "import numpy as np\n",
    "import matplotlib.pyplot as plt\n",
    "\n",
    "from sklearn.preprocessing import MinMaxScaler\n",
    "from sklearn.model_selection import GridSearchCV\n",
    "from sklearn.linear_model import LinearRegression\n",
    "from sklearn.feature_extraction.text import TfidfVectorizer\n",
    "\n",
    "from tqdm import tqdm_notebook\n",
    "from multiprocessing import Pool, cpu_count"
   ]
  },
  {
   "cell_type": "code",
   "execution_count": 6,
   "metadata": {
    "colab": {},
    "colab_type": "code",
    "id": "qhknDK6heHdr"
   },
   "outputs": [],
   "source": [
    "chars_to_replace = string.punctuation + '«»\\n--––'\n",
    "table = str.maketrans(chars_to_replace, ' ' * len(chars_to_replace))\n",
    "morph = pymorphy2.MorphAnalyzer()\n",
    "\n",
    "def clean_text(s):\n",
    "    return \" \".join(\n",
    "        [morph.normal_forms(word)[0] for word in s.translate(table).lower().split()]\n",
    "    )\n",
    "\n",
    "def process_line(line):\n",
    "    item = json.loads(line)\n",
    "    if isinstance(item['image'], float):\n",
    "        item['image'] = np.full((96,),0)\n",
    "    else:\n",
    "        item['image'] = np.array(item['image'])\n",
    "    item['content'] = clean_text(item['content'])\n",
    "    item['title'] = clean_text(item['title'])\n",
    "    return item"
   ]
  },
  {
   "cell_type": "code",
   "execution_count": 4,
   "metadata": {
    "colab": {
     "base_uri": "https://localhost:8080/",
     "height": 35
    },
    "colab_type": "code",
    "id": "a17wKhF__4yI",
    "outputId": "72f5be0b-0261-4ab5-b244-7581a6d49ebb"
   },
   "outputs": [
    {
     "data": {
      "text/plain": [
       "328050"
      ]
     },
     "execution_count": 4,
     "metadata": {},
     "output_type": "execute_result"
    }
   ],
   "source": [
    "items_count = 0\n",
    "with open('../data/interim/items.json') as items_file:\n",
    "    for line in items_file:\n",
    "        items_count += 1\n",
    "items_count"
   ]
  },
  {
   "cell_type": "code",
   "execution_count": 7,
   "metadata": {
    "colab": {
     "base_uri": "https://localhost:8080/",
     "height": 1000,
     "referenced_widgets": [
      "565d4ff7fa0c4ffba9dba7b4c52da942",
      "0d48c8f97e9f4249945f5243e742ef8e",
      "e221d473f0ef49bfa7d64a6c22338049",
      "47198071ee284bcfa75b2ec909f734f4",
      "62d3384cc6104bf38b9cfcee3aa6741b",
      "a24ad3300b3040f8a5e2dcb4c51966ed",
      "0d8569ba44634c84a58cfce6bd46d4a2",
      "653ba3519ff945e2bc77dead09c52862"
     ]
    },
    "colab_type": "code",
    "id": "DacVXiW39SqI",
    "outputId": "bcbbdcc3-98c9-4722-d3a9-c1c3fce6882c"
   },
   "outputs": [
    {
     "data": {
      "application/vnd.jupyter.widget-view+json": {
       "model_id": "6b415e082e0a4800a2ff3cd616d25909",
       "version_major": 2,
       "version_minor": 0
      },
      "text/plain": [
       "HBox(children=(IntProgress(value=0, max=328050), HTML(value='')))"
      ]
     },
     "metadata": {},
     "output_type": "display_data"
    },
    {
     "name": "stdout",
     "output_type": "stream",
     "text": [
      "\n"
     ]
    },
    {
     "data": {
      "text/html": [
       "<div>\n",
       "<style scoped>\n",
       "    .dataframe tbody tr th:only-of-type {\n",
       "        vertical-align: middle;\n",
       "    }\n",
       "\n",
       "    .dataframe tbody tr th {\n",
       "        vertical-align: top;\n",
       "    }\n",
       "\n",
       "    .dataframe thead th {\n",
       "        text-align: right;\n",
       "    }\n",
       "</style>\n",
       "<table border=\"1\" class=\"dataframe\">\n",
       "  <thead>\n",
       "    <tr style=\"text-align: right;\">\n",
       "      <th></th>\n",
       "      <th>content</th>\n",
       "      <th>image</th>\n",
       "      <th>itemId</th>\n",
       "      <th>title</th>\n",
       "    </tr>\n",
       "  </thead>\n",
       "  <tbody>\n",
       "    <tr>\n",
       "      <th>0</th>\n",
       "      <td>согласиться дорогой любитель собака до что же ...</td>\n",
       "      <td>[-0.169, 0.129, 0.067, 0.019, 0.281, -0.245, 0...</td>\n",
       "      <td>0</td>\n",
       "      <td>пять забавный морщинистый порода собака</td>\n",
       "    </tr>\n",
       "    <tr>\n",
       "      <th>1</th>\n",
       "      <td>контур три поперечный улица состоять до недавн...</td>\n",
       "      <td>[-0.158, -0.112, -0.325, 0.05, -0.114, 0.002, ...</td>\n",
       "      <td>1</td>\n",
       "      <td>история улица ирининский в гомель</td>\n",
       "    </tr>\n",
       "    <tr>\n",
       "      <th>2</th>\n",
       "      <td>источник http infodays ru вообще он как то сам...</td>\n",
       "      <td>[0.084, -0.181, 0.008, 0.34, -0.03, -0.197, -0...</td>\n",
       "      <td>2</td>\n",
       "      <td>зачем дудь весь время спрашивать гость програм...</td>\n",
       "    </tr>\n",
       "    <tr>\n",
       "      <th>3</th>\n",
       "      <td>41 летний светлана зейналов решить окрестить 5...</td>\n",
       "      <td>[0.034, -0.119, -0.062, 0.025, 0.128, -0.041, ...</td>\n",
       "      <td>3</td>\n",
       "      <td>светлана зейналов крестить младший дочь</td>\n",
       "    </tr>\n",
       "    <tr>\n",
       "      <th>4</th>\n",
       "      <td>организовать преступный группировка гбао делат...</td>\n",
       "      <td>[-0.061, -0.015, -0.198, -0.047, 0.054, 0.029,...</td>\n",
       "      <td>4</td>\n",
       "      <td>гкнб бандит в гбао делать вид что расстаться с...</td>\n",
       "    </tr>\n",
       "  </tbody>\n",
       "</table>\n",
       "</div>"
      ],
      "text/plain": [
       "                                             content  \\\n",
       "0  согласиться дорогой любитель собака до что же ...   \n",
       "1  контур три поперечный улица состоять до недавн...   \n",
       "2  источник http infodays ru вообще он как то сам...   \n",
       "3  41 летний светлана зейналов решить окрестить 5...   \n",
       "4  организовать преступный группировка гбао делат...   \n",
       "\n",
       "                                               image  itemId  \\\n",
       "0  [-0.169, 0.129, 0.067, 0.019, 0.281, -0.245, 0...       0   \n",
       "1  [-0.158, -0.112, -0.325, 0.05, -0.114, 0.002, ...       1   \n",
       "2  [0.084, -0.181, 0.008, 0.34, -0.03, -0.197, -0...       2   \n",
       "3  [0.034, -0.119, -0.062, 0.025, 0.128, -0.041, ...       3   \n",
       "4  [-0.061, -0.015, -0.198, -0.047, 0.054, 0.029,...       4   \n",
       "\n",
       "                                               title  \n",
       "0            пять забавный морщинистый порода собака  \n",
       "1                  история улица ирининский в гомель  \n",
       "2  зачем дудь весь время спрашивать гость програм...  \n",
       "3            светлана зейналов крестить младший дочь  \n",
       "4  гкнб бандит в гбао делать вид что расстаться с...  "
      ]
     },
     "execution_count": 7,
     "metadata": {},
     "output_type": "execute_result"
    }
   ],
   "source": [
    "items = []\n",
    "with open('../data/interim/items.json') as items_file:\n",
    "    with Pool(cpu_count()) as p:\n",
    "        items = list(tqdm_notebook(p.imap(process_line, items_file), total=items_count))\n",
    "items = pd.DataFrame(items)\n",
    "items.head()"
   ]
  },
  {
   "cell_type": "code",
   "execution_count": 9,
   "metadata": {},
   "outputs": [],
   "source": [
    "items.to_csv('../data/processed/processed_items.csv')"
   ]
  },
  {
   "cell_type": "code",
   "execution_count": 22,
   "metadata": {
    "colab": {
     "base_uri": "https://localhost:8080/",
     "height": 35,
     "referenced_widgets": [
      "5411b50b0da24de5a07d2f38da678ff5"
     ]
    },
    "colab_type": "code",
    "id": "SF5-_-7renUD",
    "outputId": "286cd077-3c80-480d-e259-5b794a4d9212"
   },
   "outputs": [
    {
     "data": {
      "application/vnd.jupyter.widget-view+json": {
       "model_id": "498cea5220f940709a9f07c3b4e773f1",
       "version_major": 2,
       "version_minor": 0
      },
      "text/plain": [
       "HBox(children=(IntProgress(value=0, max=42977), HTML(value='')))"
      ]
     },
     "metadata": {},
     "output_type": "display_data"
    },
    {
     "name": "stdout",
     "output_type": "stream",
     "text": [
      "\n"
     ]
    }
   ],
   "source": [
    "data = []\n",
    "row = []\n",
    "col = []\n",
    "\n",
    "train_lines = sum(1 for line in open('train.json','r'))\n",
    "\n",
    "with open('train.json') as train_file:\n",
    "    for i, line in enumerate(tqdm_notebook(train_file, total=train_lines)):\n",
    "        json_line = json.loads(line)\n",
    "        for item, rating in json_line['trainRatings'].items():\n",
    "            data.append((-1) ** (int(rating) + 1))\n",
    "            row.append(i)\n",
    "            col.append(int(item))\n",
    "train_int = scipy.sparse.coo_matrix((data, (row, col)))"
   ]
  },
  {
   "cell_type": "code",
   "execution_count": 24,
   "metadata": {},
   "outputs": [],
   "source": [
    "del data, row, col"
   ]
  },
  {
   "cell_type": "code",
   "execution_count": 25,
   "metadata": {},
   "outputs": [],
   "source": [
    "identity_items = scipy.sparse.eye(len(items))"
   ]
  },
  {
   "cell_type": "code",
   "execution_count": 26,
   "metadata": {},
   "outputs": [],
   "source": [
    "import lightfm"
   ]
  },
  {
   "cell_type": "code",
   "execution_count": 27,
   "metadata": {},
   "outputs": [
    {
     "data": {
      "text/plain": [
       "<lightfm.lightfm.LightFM at 0x7f5d79de6f60>"
      ]
     },
     "execution_count": 27,
     "metadata": {},
     "output_type": "execute_result"
    }
   ],
   "source": [
    "model = lightfm.LightFM(no_components=128, loss='logistic', random_state=42)\n",
    "model.fit(train_int, epochs=7, num_threads=cpu_count(), item_features=identity_items)"
   ]
  },
  {
   "cell_type": "code",
   "execution_count": 28,
   "metadata": {},
   "outputs": [],
   "source": [
    "sample = pd.read_csv('predictions/random_benchmark.csv')\n",
    "sample['pred'] = model.predict(\n",
    "    sample.userId.values,\n",
    "    sample.itemId.values,\n",
    "    item_features=identity_items,\n",
    "    num_threads=cpu_count(),\n",
    ")\n",
    "sample.sort_values(['userId', 'pred'], ascending=[True, False], inplace=True)\n",
    "sample.drop(columns=['pred'], inplace=True)\n",
    "sample.to_csv('predictions/lightfm_identity_items.csv', index=False)"
   ]
  },
  {
   "cell_type": "code",
   "execution_count": 29,
   "metadata": {},
   "outputs": [
    {
     "name": "stdout",
     "output_type": "stream",
     "text": [
      "100%|██████████████████████████████████████| 35.7M/35.7M [00:06<00:00, 5.36MB/s]\n",
      "Successfully submitted to Рекомендательная система для статей"
     ]
    }
   ],
   "source": [
    "!kaggle competitions submit -c 2018-hse-ml-competition-04 -f predictions/lightfm_identity_items.csv -m \"Raw identity items submission\""
   ]
  },
  {
   "cell_type": "code",
   "execution_count": null,
   "metadata": {},
   "outputs": [],
   "source": []
  }
 ],
 "metadata": {
  "accelerator": "GPU",
  "colab": {
   "name": "linear_recommender.ipynb",
   "provenance": []
  },
  "kernelspec": {
   "display_name": "Python 3",
   "language": "python",
   "name": "python3"
  },
  "language_info": {
   "codemirror_mode": {
    "name": "ipython",
    "version": 3
   },
   "file_extension": ".py",
   "mimetype": "text/x-python",
   "name": "python",
   "nbconvert_exporter": "python",
   "pygments_lexer": "ipython3",
   "version": "3.6.9"
  },
  "widgets": {
   "application/vnd.jupyter.widget-state+json": {
    "0d48c8f97e9f4249945f5243e742ef8e": {
     "model_module": "@jupyter-widgets/base",
     "model_name": "LayoutModel",
     "state": {
      "_model_module": "@jupyter-widgets/base",
      "_model_module_version": "1.2.0",
      "_model_name": "LayoutModel",
      "_view_count": null,
      "_view_module": "@jupyter-widgets/base",
      "_view_module_version": "1.2.0",
      "_view_name": "LayoutView",
      "align_content": null,
      "align_items": null,
      "align_self": null,
      "border": null,
      "bottom": null,
      "display": null,
      "flex": null,
      "flex_flow": null,
      "grid_area": null,
      "grid_auto_columns": null,
      "grid_auto_flow": null,
      "grid_auto_rows": null,
      "grid_column": null,
      "grid_gap": null,
      "grid_row": null,
      "grid_template_areas": null,
      "grid_template_columns": null,
      "grid_template_rows": null,
      "height": null,
      "justify_content": null,
      "justify_items": null,
      "left": null,
      "margin": null,
      "max_height": null,
      "max_width": null,
      "min_height": null,
      "min_width": null,
      "object_fit": null,
      "object_position": null,
      "order": null,
      "overflow": null,
      "overflow_x": null,
      "overflow_y": null,
      "padding": null,
      "right": null,
      "top": null,
      "visibility": null,
      "width": null
     }
    },
    "0d8569ba44634c84a58cfce6bd46d4a2": {
     "model_module": "@jupyter-widgets/controls",
     "model_name": "DescriptionStyleModel",
     "state": {
      "_model_module": "@jupyter-widgets/controls",
      "_model_module_version": "1.5.0",
      "_model_name": "DescriptionStyleModel",
      "_view_count": null,
      "_view_module": "@jupyter-widgets/base",
      "_view_module_version": "1.2.0",
      "_view_name": "StyleView",
      "description_width": ""
     }
    },
    "47198071ee284bcfa75b2ec909f734f4": {
     "model_module": "@jupyter-widgets/controls",
     "model_name": "HTMLModel",
     "state": {
      "_dom_classes": [],
      "_model_module": "@jupyter-widgets/controls",
      "_model_module_version": "1.5.0",
      "_model_name": "HTMLModel",
      "_view_count": null,
      "_view_module": "@jupyter-widgets/controls",
      "_view_module_version": "1.5.0",
      "_view_name": "HTMLView",
      "description": "",
      "description_tooltip": null,
      "layout": "IPY_MODEL_653ba3519ff945e2bc77dead09c52862",
      "placeholder": "​",
      "style": "IPY_MODEL_0d8569ba44634c84a58cfce6bd46d4a2",
      "value": "  3% 8355/328050 [06:01&lt;3:41:52, 24.01it/s]"
     }
    },
    "565d4ff7fa0c4ffba9dba7b4c52da942": {
     "model_module": "@jupyter-widgets/controls",
     "model_name": "HBoxModel",
     "state": {
      "_dom_classes": [],
      "_model_module": "@jupyter-widgets/controls",
      "_model_module_version": "1.5.0",
      "_model_name": "HBoxModel",
      "_view_count": null,
      "_view_module": "@jupyter-widgets/controls",
      "_view_module_version": "1.5.0",
      "_view_name": "HBoxView",
      "box_style": "",
      "children": [
       "IPY_MODEL_e221d473f0ef49bfa7d64a6c22338049",
       "IPY_MODEL_47198071ee284bcfa75b2ec909f734f4"
      ],
      "layout": "IPY_MODEL_0d48c8f97e9f4249945f5243e742ef8e"
     }
    },
    "62d3384cc6104bf38b9cfcee3aa6741b": {
     "model_module": "@jupyter-widgets/controls",
     "model_name": "ProgressStyleModel",
     "state": {
      "_model_module": "@jupyter-widgets/controls",
      "_model_module_version": "1.5.0",
      "_model_name": "ProgressStyleModel",
      "_view_count": null,
      "_view_module": "@jupyter-widgets/base",
      "_view_module_version": "1.2.0",
      "_view_name": "StyleView",
      "bar_color": null,
      "description_width": ""
     }
    },
    "653ba3519ff945e2bc77dead09c52862": {
     "model_module": "@jupyter-widgets/base",
     "model_name": "LayoutModel",
     "state": {
      "_model_module": "@jupyter-widgets/base",
      "_model_module_version": "1.2.0",
      "_model_name": "LayoutModel",
      "_view_count": null,
      "_view_module": "@jupyter-widgets/base",
      "_view_module_version": "1.2.0",
      "_view_name": "LayoutView",
      "align_content": null,
      "align_items": null,
      "align_self": null,
      "border": null,
      "bottom": null,
      "display": null,
      "flex": null,
      "flex_flow": null,
      "grid_area": null,
      "grid_auto_columns": null,
      "grid_auto_flow": null,
      "grid_auto_rows": null,
      "grid_column": null,
      "grid_gap": null,
      "grid_row": null,
      "grid_template_areas": null,
      "grid_template_columns": null,
      "grid_template_rows": null,
      "height": null,
      "justify_content": null,
      "justify_items": null,
      "left": null,
      "margin": null,
      "max_height": null,
      "max_width": null,
      "min_height": null,
      "min_width": null,
      "object_fit": null,
      "object_position": null,
      "order": null,
      "overflow": null,
      "overflow_x": null,
      "overflow_y": null,
      "padding": null,
      "right": null,
      "top": null,
      "visibility": null,
      "width": null
     }
    },
    "a24ad3300b3040f8a5e2dcb4c51966ed": {
     "model_module": "@jupyter-widgets/base",
     "model_name": "LayoutModel",
     "state": {
      "_model_module": "@jupyter-widgets/base",
      "_model_module_version": "1.2.0",
      "_model_name": "LayoutModel",
      "_view_count": null,
      "_view_module": "@jupyter-widgets/base",
      "_view_module_version": "1.2.0",
      "_view_name": "LayoutView",
      "align_content": null,
      "align_items": null,
      "align_self": null,
      "border": null,
      "bottom": null,
      "display": null,
      "flex": null,
      "flex_flow": null,
      "grid_area": null,
      "grid_auto_columns": null,
      "grid_auto_flow": null,
      "grid_auto_rows": null,
      "grid_column": null,
      "grid_gap": null,
      "grid_row": null,
      "grid_template_areas": null,
      "grid_template_columns": null,
      "grid_template_rows": null,
      "height": null,
      "justify_content": null,
      "justify_items": null,
      "left": null,
      "margin": null,
      "max_height": null,
      "max_width": null,
      "min_height": null,
      "min_width": null,
      "object_fit": null,
      "object_position": null,
      "order": null,
      "overflow": null,
      "overflow_x": null,
      "overflow_y": null,
      "padding": null,
      "right": null,
      "top": null,
      "visibility": null,
      "width": null
     }
    },
    "e221d473f0ef49bfa7d64a6c22338049": {
     "model_module": "@jupyter-widgets/controls",
     "model_name": "IntProgressModel",
     "state": {
      "_dom_classes": [],
      "_model_module": "@jupyter-widgets/controls",
      "_model_module_version": "1.5.0",
      "_model_name": "IntProgressModel",
      "_view_count": null,
      "_view_module": "@jupyter-widgets/controls",
      "_view_module_version": "1.5.0",
      "_view_name": "ProgressView",
      "bar_style": "danger",
      "description": "",
      "description_tooltip": null,
      "layout": "IPY_MODEL_a24ad3300b3040f8a5e2dcb4c51966ed",
      "max": 328050,
      "min": 0,
      "orientation": "horizontal",
      "style": "IPY_MODEL_62d3384cc6104bf38b9cfcee3aa6741b",
      "value": 8355
     }
    }
   }
  }
 },
 "nbformat": 4,
 "nbformat_minor": 1
}
