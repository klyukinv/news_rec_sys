{
 "cells": [
  {
   "cell_type": "code",
   "execution_count": 1,
   "metadata": {},
   "outputs": [],
   "source": [
    "import scipy.sparse\n",
    "import json\n",
    "import string\n",
    "import pymorphy2\n",
    "\n",
    "import pandas as pd\n",
    "import numpy as np\n",
    "import matplotlib.pyplot as plt\n",
    "\n",
    "from sklearn.preprocessing import MinMaxScaler\n",
    "from sklearn.model_selection import GridSearchCV\n",
    "from sklearn.linear_model import LogisticRegression\n",
    "from sklearn.feature_extraction.text import TfidfVectorizer\n",
    "\n",
    "from tqdm import tqdm_notebook\n",
    "from multiprocessing import Pool, cpu_count"
   ]
  },
  {
   "cell_type": "code",
   "execution_count": 2,
   "metadata": {},
   "outputs": [
    {
     "data": {
      "text/html": [
       "<div>\n",
       "<style scoped>\n",
       "    .dataframe tbody tr th:only-of-type {\n",
       "        vertical-align: middle;\n",
       "    }\n",
       "\n",
       "    .dataframe tbody tr th {\n",
       "        vertical-align: top;\n",
       "    }\n",
       "\n",
       "    .dataframe thead th {\n",
       "        text-align: right;\n",
       "    }\n",
       "</style>\n",
       "<table border=\"1\" class=\"dataframe\">\n",
       "  <thead>\n",
       "    <tr style=\"text-align: right;\">\n",
       "      <th></th>\n",
       "      <th>content</th>\n",
       "      <th>image</th>\n",
       "      <th>title</th>\n",
       "    </tr>\n",
       "    <tr>\n",
       "      <th>itemId</th>\n",
       "      <th></th>\n",
       "      <th></th>\n",
       "      <th></th>\n",
       "    </tr>\n",
       "  </thead>\n",
       "  <tbody>\n",
       "    <tr>\n",
       "      <th>0</th>\n",
       "      <td>согласиться дорогой любитель собака до что же ...</td>\n",
       "      <td>[-0.169  0.129  0.067  0.019  0.281 -0.245  0....</td>\n",
       "      <td>пять забавный морщинистый порода собака</td>\n",
       "    </tr>\n",
       "    <tr>\n",
       "      <th>1</th>\n",
       "      <td>контур три поперечный улица состоять до недавн...</td>\n",
       "      <td>[-0.158 -0.112 -0.325  0.05  -0.114  0.002 -0....</td>\n",
       "      <td>история улица ирининский в гомель</td>\n",
       "    </tr>\n",
       "    <tr>\n",
       "      <th>2</th>\n",
       "      <td>источник http infodays ru вообще он как то сам...</td>\n",
       "      <td>[ 0.084 -0.181  0.008  0.34  -0.03  -0.197 -0....</td>\n",
       "      <td>зачем дудь весь время спрашивать гость програм...</td>\n",
       "    </tr>\n",
       "    <tr>\n",
       "      <th>3</th>\n",
       "      <td>41 летний светлана зейналов решить окрестить 5...</td>\n",
       "      <td>[ 0.034 -0.119 -0.062  0.025  0.128 -0.041  0....</td>\n",
       "      <td>светлана зейналов крестить младший дочь</td>\n",
       "    </tr>\n",
       "    <tr>\n",
       "      <th>4</th>\n",
       "      <td>организовать преступный группировка гбао делат...</td>\n",
       "      <td>[-0.061 -0.015 -0.198 -0.047  0.054  0.029 -0....</td>\n",
       "      <td>гкнб бандит в гбао делать вид что расстаться с...</td>\n",
       "    </tr>\n",
       "  </tbody>\n",
       "</table>\n",
       "</div>"
      ],
      "text/plain": [
       "                                                  content  \\\n",
       "itemId                                                      \n",
       "0       согласиться дорогой любитель собака до что же ...   \n",
       "1       контур три поперечный улица состоять до недавн...   \n",
       "2       источник http infodays ru вообще он как то сам...   \n",
       "3       41 летний светлана зейналов решить окрестить 5...   \n",
       "4       организовать преступный группировка гбао делат...   \n",
       "\n",
       "                                                    image  \\\n",
       "itemId                                                      \n",
       "0       [-0.169  0.129  0.067  0.019  0.281 -0.245  0....   \n",
       "1       [-0.158 -0.112 -0.325  0.05  -0.114  0.002 -0....   \n",
       "2       [ 0.084 -0.181  0.008  0.34  -0.03  -0.197 -0....   \n",
       "3       [ 0.034 -0.119 -0.062  0.025  0.128 -0.041  0....   \n",
       "4       [-0.061 -0.015 -0.198 -0.047  0.054  0.029 -0....   \n",
       "\n",
       "                                                    title  \n",
       "itemId                                                     \n",
       "0                 пять забавный морщинистый порода собака  \n",
       "1                       история улица ирининский в гомель  \n",
       "2       зачем дудь весь время спрашивать гость програм...  \n",
       "3                 светлана зейналов крестить младший дочь  \n",
       "4       гкнб бандит в гбао делать вид что расстаться с...  "
      ]
     },
     "execution_count": 2,
     "metadata": {},
     "output_type": "execute_result"
    }
   ],
   "source": [
    "items = pd.read_csv('../data/processed/processed_items.csv', index_col='itemId')\n",
    "items.head()"
   ]
  },
  {
   "cell_type": "code",
   "execution_count": 3,
   "metadata": {},
   "outputs": [],
   "source": [
    "import gensim.models.keyedvectors as word2vec\n",
    "import gc"
   ]
  },
  {
   "cell_type": "code",
   "execution_count": 4,
   "metadata": {},
   "outputs": [],
   "source": [
    "path = '../data/external/ruwikiruscorpora_upos_skipgram_300_2_2019/model.bin'\n",
    "w2v_model = word2vec.KeyedVectors.load_word2vec_format(path, binary=True)"
   ]
  },
  {
   "cell_type": "code",
   "execution_count": 5,
   "metadata": {},
   "outputs": [],
   "source": [
    "import sys\n",
    "sys.path.append('../src/features')\n",
    "from w2v_stemmer import tag"
   ]
  },
  {
   "cell_type": "code",
   "execution_count": 6,
   "metadata": {},
   "outputs": [
    {
     "data": {
      "application/vnd.jupyter.widget-view+json": {
       "model_id": "947980801ab4460889608f778b53ff24",
       "version_major": 2,
       "version_minor": 0
      },
      "text/plain": [
       "HBox(children=(IntProgress(value=0, max=248978), HTML(value='')))"
      ]
     },
     "metadata": {},
     "output_type": "display_data"
    },
    {
     "name": "stdout",
     "output_type": "stream",
     "text": [
      "\n",
      "Loaded 248978 word vectors.\n"
     ]
    }
   ],
   "source": [
    "embeddings_index = dict()\n",
    "for word in tqdm_notebook(w2v_model.vocab):\n",
    "    embeddings_index[word] = w2v_model[word]\n",
    "print('Loaded {} word vectors.'.format(len(embeddings_index)))\n",
    "\n",
    "gc.collect()\n",
    "all_embs = np.stack(list(embeddings_index.values()))\n",
    "emb_mean, emb_std = all_embs.mean(axis=0), all_embs.std(axis=0)"
   ]
  },
  {
   "cell_type": "code",
   "execution_count": 7,
   "metadata": {},
   "outputs": [
    {
     "name": "stderr",
     "output_type": "stream",
     "text": [
      "[nltk_data] Downloading package stopwords to\n",
      "[nltk_data]     /home/valeriy/nltk_data...\n",
      "[nltk_data]   Package stopwords is already up-to-date!\n"
     ]
    }
   ],
   "source": [
    "import nltk\n",
    "nltk.download(\"stopwords\")\n",
    "#--------#\n",
    "\n",
    "from nltk.corpus import stopwords"
   ]
  },
  {
   "cell_type": "code",
   "execution_count": 8,
   "metadata": {},
   "outputs": [],
   "source": [
    "russian_stopwords = stopwords.words(\"russian\")\n",
    "\n",
    "def get_embedding(label: str) -> np.ndarray:\n",
    "    if isinstance(label, float):\n",
    "        return np.random.normal(emb_mean, emb_std, w2v_model.vector_size)\n",
    "    \n",
    "    words = [word for word in label.split() if word not in russian_stopwords]\n",
    "    \n",
    "    if not words:\n",
    "        return np.random.normal(emb_mean, emb_std, w2v_model.vector_size)\n",
    "    \n",
    "    label_embeddings = np.zeros((len(words), w2v_model.vector_size), dtype=np.float32)\n",
    "    \n",
    "    for i, word in enumerate(words):\n",
    "        if word not in w2v_model:\n",
    "            label_embeddings[i, :] = np.random.normal(emb_mean, emb_std, w2v_model.vector_size)\n",
    "            continue\n",
    "        tagged = tag(word)\n",
    "        if tagged:\n",
    "            label_embeddings[i, :] = w2v_model[tagged]\n",
    "            continue\n",
    "        label_embeddings[i, :] = np.random.normal(emb_mean, emb_std, w2v_model.vector_size)\n",
    "    \n",
    "    return label_embeddings.mean()\n",
    "            \n",
    "\n",
    "def get_embeddings(series: pd.Series):\n",
    "    output = np.zeros((len(series), w2v_model.vector_size), dtype=np.float32)\n",
    "    for i, label in tqdm_notebook(series.items(), total=len(series)):\n",
    "        output[i, :] = get_embedding(label)\n",
    "    return output"
   ]
  },
  {
   "cell_type": "code",
   "execution_count": 9,
   "metadata": {},
   "outputs": [
    {
     "data": {
      "application/vnd.jupyter.widget-view+json": {
       "model_id": "40faaa2239d64c779d058732bd57889a",
       "version_major": 2,
       "version_minor": 0
      },
      "text/plain": [
       "HBox(children=(IntProgress(value=0, max=328050), HTML(value='')))"
      ]
     },
     "metadata": {},
     "output_type": "display_data"
    },
    {
     "name": "stdout",
     "output_type": "stream",
     "text": [
      "\n"
     ]
    },
    {
     "data": {
      "text/plain": [
       "(328050, 300)"
      ]
     },
     "execution_count": 9,
     "metadata": {},
     "output_type": "execute_result"
    }
   ],
   "source": [
    "title_embeddings = get_embeddings(items['title'])\n",
    "title_embeddings.shape"
   ]
  },
  {
   "cell_type": "code",
   "execution_count": 10,
   "metadata": {},
   "outputs": [
    {
     "data": {
      "text/plain": [
       "4349"
      ]
     },
     "execution_count": 10,
     "metadata": {},
     "output_type": "execute_result"
    }
   ],
   "source": [
    "sample = pd.read_csv('../data/external/random_benchmark.csv')\n",
    "sample.userId.unique().size"
   ]
  },
  {
   "cell_type": "code",
   "execution_count": 11,
   "metadata": {
    "scrolled": true
   },
   "outputs": [
    {
     "data": {
      "image/png": "[encoded data removed]",
      "text/plain": [
       "<matplotlib.figure.Figure at 0x7f117dc24da0>"
      ]
     },
     "metadata": {
      "needs_background": "light"
     },
     "output_type": "display_data"
    }
   ],
   "source": [
    "sample.userId.hist()\n",
    "plt.show()"
   ]
  },
  {
   "cell_type": "code",
   "execution_count": 12,
   "metadata": {},
   "outputs": [
    {
     "data": {
      "text/plain": [
       "4349"
      ]
     },
     "execution_count": 12,
     "metadata": {},
     "output_type": "execute_result"
    }
   ],
   "source": [
    "users_to_pred = sample.userId.unique()\n",
    "len(users_to_pred)"
   ]
  },
  {
   "cell_type": "code",
   "execution_count": 13,
   "metadata": {},
   "outputs": [
    {
     "data": {
      "application/vnd.jupyter.widget-view+json": {
       "model_id": "cda4355a83a74b9d9f8b4338985302ad",
       "version_major": 2,
       "version_minor": 0
      },
      "text/plain": [
       "HBox(children=(IntProgress(value=0, max=42977), HTML(value='')))"
      ]
     },
     "metadata": {},
     "output_type": "display_data"
    },
    {
     "name": "stdout",
     "output_type": "stream",
     "text": [
      "\n"
     ]
    }
   ],
   "source": [
    "train_data = {}\n",
    "\n",
    "train_lines = sum(1 for line in open('../data/interim/train.json','r'))\n",
    "\n",
    "with open('../data/interim/train.json') as train_file:\n",
    "    for i, line in enumerate(tqdm_notebook(train_file, total=train_lines)):\n",
    "        if i in users_to_pred:\n",
    "            json_line = json.loads(line)\n",
    "            answers = []\n",
    "            items = []\n",
    "            for item, rating in json_line['trainRatings'].items():\n",
    "                answers.append((-1) ** (int(rating) + 1))\n",
    "                items.append(int(item))\n",
    "            train_data[i] = {\n",
    "                'X': items,\n",
    "                'y': answers\n",
    "            }"
   ]
  },
  {
   "cell_type": "code",
   "execution_count": 84,
   "metadata": {},
   "outputs": [],
   "source": [
    "def learn_logistic_regression(userId, sample):\n",
    "    train_items = train_data[userId]['X']\n",
    "    y_train = np.array(train_data[userId]['y'])\n",
    "    X_train = title_embeddings[train_items]\n",
    "    model = LogisticRegression(random_state=42, C=0.01)\n",
    "    model.fit(X_train, y_train)\n",
    "    items_to_predict = sample[sample.userId == userId].itemId\n",
    "    sample.loc[sample.userId == userId, 'pred'] = model.predict_proba(title_embeddings[items_to_predict])[:, 1]"
   ]
  },
  {
   "cell_type": "code",
   "execution_count": 85,
   "metadata": {},
   "outputs": [
    {
     "data": {
      "text/html": [
       "<div>\n",
       "<style scoped>\n",
       "    .dataframe tbody tr th:only-of-type {\n",
       "        vertical-align: middle;\n",
       "    }\n",
       "\n",
       "    .dataframe tbody tr th {\n",
       "        vertical-align: top;\n",
       "    }\n",
       "\n",
       "    .dataframe thead th {\n",
       "        text-align: right;\n",
       "    }\n",
       "</style>\n",
       "<table border=\"1\" class=\"dataframe\">\n",
       "  <thead>\n",
       "    <tr style=\"text-align: right;\">\n",
       "      <th></th>\n",
       "      <th>userId</th>\n",
       "      <th>itemId</th>\n",
       "      <th>pred</th>\n",
       "    </tr>\n",
       "  </thead>\n",
       "  <tbody>\n",
       "    <tr>\n",
       "      <th>145</th>\n",
       "      <td>1</td>\n",
       "      <td>82411</td>\n",
       "      <td>0.0</td>\n",
       "    </tr>\n",
       "    <tr>\n",
       "      <th>32</th>\n",
       "      <td>1</td>\n",
       "      <td>48425</td>\n",
       "      <td>0.0</td>\n",
       "    </tr>\n",
       "    <tr>\n",
       "      <th>29</th>\n",
       "      <td>1</td>\n",
       "      <td>142561</td>\n",
       "      <td>0.0</td>\n",
       "    </tr>\n",
       "    <tr>\n",
       "      <th>90</th>\n",
       "      <td>1</td>\n",
       "      <td>42426</td>\n",
       "      <td>0.0</td>\n",
       "    </tr>\n",
       "    <tr>\n",
       "      <th>564</th>\n",
       "      <td>1</td>\n",
       "      <td>224051</td>\n",
       "      <td>0.0</td>\n",
       "    </tr>\n",
       "  </tbody>\n",
       "</table>\n",
       "</div>"
      ],
      "text/plain": [
       "     userId  itemId  pred\n",
       "145       1   82411   0.0\n",
       "32        1   48425   0.0\n",
       "29        1  142561   0.0\n",
       "90        1   42426   0.0\n",
       "564       1  224051   0.0"
      ]
     },
     "execution_count": 85,
     "metadata": {},
     "output_type": "execute_result"
    }
   ],
   "source": [
    "sample['pred'] = np.zeros(sample.userId.shape)\n",
    "sample.head()"
   ]
  },
  {
   "cell_type": "code",
   "execution_count": 30,
   "metadata": {},
   "outputs": [],
   "source": [
    "import warnings\n",
    "warnings.filterwarnings(\"ignore\")"
   ]
  },
  {
   "cell_type": "code",
   "execution_count": 86,
   "metadata": {},
   "outputs": [
    {
     "data": {
      "application/vnd.jupyter.widget-view+json": {
       "model_id": "a3f24f957a454c288fac90fddf7b2697",
       "version_major": 2,
       "version_minor": 0
      },
      "text/plain": [
       "HBox(children=(IntProgress(value=0, max=4349), HTML(value='')))"
      ]
     },
     "metadata": {},
     "output_type": "display_data"
    }
   ],
   "source": [
    "for userId in tqdm_notebook(users_to_pred):\n",
    "    learn_logistic_regression(userId, sample)"
   ]
  },
  {
   "cell_type": "code",
   "execution_count": 87,
   "metadata": {},
   "outputs": [
    {
     "data": {
      "text/html": [
       "<div>\n",
       "<style scoped>\n",
       "    .dataframe tbody tr th:only-of-type {\n",
       "        vertical-align: middle;\n",
       "    }\n",
       "\n",
       "    .dataframe tbody tr th {\n",
       "        vertical-align: top;\n",
       "    }\n",
       "\n",
       "    .dataframe thead th {\n",
       "        text-align: right;\n",
       "    }\n",
       "</style>\n",
       "<table border=\"1\" class=\"dataframe\">\n",
       "  <thead>\n",
       "    <tr style=\"text-align: right;\">\n",
       "      <th></th>\n",
       "      <th>userId</th>\n",
       "      <th>itemId</th>\n",
       "      <th>pred</th>\n",
       "    </tr>\n",
       "  </thead>\n",
       "  <tbody>\n",
       "    <tr>\n",
       "      <th>count</th>\n",
       "      <td>3.018186e+06</td>\n",
       "      <td>3.018186e+06</td>\n",
       "      <td>3.018186e+06</td>\n",
       "    </tr>\n",
       "    <tr>\n",
       "      <th>mean</th>\n",
       "      <td>2.151173e+04</td>\n",
       "      <td>1.632823e+05</td>\n",
       "      <td>1.667824e-01</td>\n",
       "    </tr>\n",
       "    <tr>\n",
       "      <th>std</th>\n",
       "      <td>1.212660e+04</td>\n",
       "      <td>9.454055e+04</td>\n",
       "      <td>8.676840e-02</td>\n",
       "    </tr>\n",
       "    <tr>\n",
       "      <th>min</th>\n",
       "      <td>1.000000e+00</td>\n",
       "      <td>3.000000e+00</td>\n",
       "      <td>6.406962e-02</td>\n",
       "    </tr>\n",
       "    <tr>\n",
       "      <th>25%</th>\n",
       "      <td>1.098700e+04</td>\n",
       "      <td>8.079000e+04</td>\n",
       "      <td>1.011650e-01</td>\n",
       "    </tr>\n",
       "    <tr>\n",
       "      <th>50%</th>\n",
       "      <td>2.158400e+04</td>\n",
       "      <td>1.637920e+05</td>\n",
       "      <td>1.370915e-01</td>\n",
       "    </tr>\n",
       "    <tr>\n",
       "      <th>75%</th>\n",
       "      <td>3.173800e+04</td>\n",
       "      <td>2.449550e+05</td>\n",
       "      <td>2.076824e-01</td>\n",
       "    </tr>\n",
       "    <tr>\n",
       "      <th>max</th>\n",
       "      <td>4.297500e+04</td>\n",
       "      <td>3.280490e+05</td>\n",
       "      <td>5.057063e-01</td>\n",
       "    </tr>\n",
       "  </tbody>\n",
       "</table>\n",
       "</div>"
      ],
      "text/plain": [
       "             userId        itemId          pred\n",
       "count  3.018186e+06  3.018186e+06  3.018186e+06\n",
       "mean   2.151173e+04  1.632823e+05  1.667824e-01\n",
       "std    1.212660e+04  9.454055e+04  8.676840e-02\n",
       "min    1.000000e+00  3.000000e+00  6.406962e-02\n",
       "25%    1.098700e+04  8.079000e+04  1.011650e-01\n",
       "50%    2.158400e+04  1.637920e+05  1.370915e-01\n",
       "75%    3.173800e+04  2.449550e+05  2.076824e-01\n",
       "max    4.297500e+04  3.280490e+05  5.057063e-01"
      ]
     },
     "execution_count": 87,
     "metadata": {},
     "output_type": "execute_result"
    }
   ],
   "source": [
    "sample.describe()"
   ]
  },
  {
   "cell_type": "code",
   "execution_count": 65,
   "metadata": {},
   "outputs": [],
   "source": [
    "sample.sort_values(['userId', 'pred'], ascending=[True, False], inplace=True)\n",
    "sample.drop(columns=['pred'], inplace=True)\n",
    "sample.to_csv('../predictions/lin_reg_embedding_text_submission.csv', index=False)"
   ]
  },
  {
   "cell_type": "code",
   "execution_count": 66,
   "metadata": {},
   "outputs": [],
   "source": [
    "import os\n",
    "os.environ['KAGGLE_USERNAME'] = \"klyukinv\"\n",
    "os.environ['KAGGLE_KEY'] = \"6fc43bd58892df21aa88d9f8ad6206ef\""
   ]
  },
  {
   "cell_type": "code",
   "execution_count": 68,
   "metadata": {},
   "outputs": [
    {
     "name": "stdout",
     "output_type": "stream",
     "text": [
      "100%|██████████████████████████████████████| 35.7M/35.7M [00:07<00:00, 5.08MB/s]\n",
      "Successfully submitted to Рекомендательная система для статей"
     ]
    }
   ],
   "source": [
    "!kaggle competitions submit -c 2018-hse-ml-competition-04 -f ../predictions/lin_reg_embedding_text_submission.csv -m \"Log reg title embeddings (w2v) submission №1\""
   ]
  },
  {
   "cell_type": "code",
   "execution_count": 91,
   "metadata": {},
   "outputs": [],
   "source": [
    "from sklearn.svm import SVC\n",
    "\n",
    "def learn_svm(userId, sample):\n",
    "    train_items = train_data[userId]['X']\n",
    "    y_train = np.array(train_data[userId]['y'])\n",
    "    X_train = title_embeddings[train_items]\n",
    "    model = SVC(random_state=42, probability=True)\n",
    "    model.fit(X_train, y_train)\n",
    "    items_to_predict = sample[sample.userId == userId].itemId\n",
    "    sample.loc[sample.userId == userId, 'pred'] = model.predict_proba(title_embeddings[items_to_predict])[:, 1]"
   ]
  },
  {
   "cell_type": "code",
   "execution_count": 92,
   "metadata": {},
   "outputs": [
    {
     "data": {
      "application/vnd.jupyter.widget-view+json": {
       "model_id": "b5ee5fd2d313408f837e601d3472c74f",
       "version_major": 2,
       "version_minor": 0
      },
      "text/plain": [
       "HBox(children=(IntProgress(value=0, max=4349), HTML(value='')))"
      ]
     },
     "metadata": {},
     "output_type": "display_data"
    }
   ],
   "source": [
    "for userId in tqdm_notebook(users_to_pred):\n",
    "    learn_svm(userId, sample)"
   ]
  },
  {
   "cell_type": "code",
   "execution_count": 93,
   "metadata": {},
   "outputs": [],
   "source": [
    "sample.sort_values(['userId', 'pred'], ascending=[True, False], inplace=True)\n",
    "sample.drop(columns=['pred'], inplace=True)\n",
    "sample.to_csv('../predictions/svm_embedding_text_submission.csv', index=False)"
   ]
  },
  {
   "cell_type": "code",
   "execution_count": 96,
   "metadata": {},
   "outputs": [
    {
     "name": "stdout",
     "output_type": "stream",
     "text": [
      "100%|██████████████████████████████████████| 35.7M/35.7M [00:06<00:00, 5.58MB/s]\n",
      "Successfully submitted to Рекомендательная система для статей"
     ]
    }
   ],
   "source": [
    "!kaggle competitions submit -c 2018-hse-ml-competition-04 -f ../predictions/svm_embedding_text_submission.csv -m \"SVM title embeddings (w2v) submission\""
   ]
  },
  {
   "cell_type": "code",
   "execution_count": null,
   "metadata": {},
   "outputs": [],
   "source": []
  }
 ],
 "metadata": {
  "kernelspec": {
   "display_name": "Python 3",
   "language": "python",
   "name": "python3"
  },
  "language_info": {
   "codemirror_mode": {
    "name": "ipython",
    "version": 3
   },
   "file_extension": ".py",
   "mimetype": "text/x-python",
   "name": "python",
   "nbconvert_exporter": "python",
   "pygments_lexer": "ipython3",
   "version": "3.6.9"
  }
 },
 "nbformat": 4,
 "nbformat_minor": 2
}
