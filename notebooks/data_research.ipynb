{
 "cells": [
  {
   "cell_type": "code",
   "execution_count": 1,
   "metadata": {
    "colab": {},
    "colab_type": "code",
    "id": "DhYYzZmPX1f0"
   },
   "outputs": [],
   "source": [
    "import scipy.sparse\n",
    "import json\n",
    "import string\n",
    "import pymorphy2\n",
    "\n",
    "import pandas as pd\n",
    "import numpy as np\n",
    "import matplotlib.pyplot as plt\n",
    "\n",
    "from sklearn.preprocessing import MinMaxScaler\n",
    "from sklearn.model_selection import GridSearchCV\n",
    "from sklearn.linear_model import LinearRegression\n",
    "from sklearn.feature_extraction.text import TfidfVectorizer\n",
    "\n",
    "from tqdm import tqdm_notebook\n",
    "from multiprocessing import Pool, cpu_count"
   ]
  },
  {
   "cell_type": "code",
   "execution_count": 2,
   "metadata": {},
   "outputs": [],
   "source": [
    "def process_line(line):\n",
    "    item = json.loads(line)\n",
    "    del item['image'], item['content']\n",
    "    item['title'] = item['title']\n",
    "    return item"
   ]
  },
  {
   "cell_type": "code",
   "execution_count": 3,
   "metadata": {},
   "outputs": [
    {
     "data": {
      "text/plain": [
       "328050"
      ]
     },
     "execution_count": 3,
     "metadata": {},
     "output_type": "execute_result"
    }
   ],
   "source": [
    "items_count = 0\n",
    "with open('../data/interim/items.json') as items_file:\n",
    "    for line in items_file:\n",
    "        items_count += 1\n",
    "items_count"
   ]
  },
  {
   "cell_type": "code",
   "execution_count": 4,
   "metadata": {
    "colab": {
     "base_uri": "https://localhost:8080/",
     "height": 1000,
     "referenced_widgets": [
      "565d4ff7fa0c4ffba9dba7b4c52da942",
      "0d48c8f97e9f4249945f5243e742ef8e",
      "e221d473f0ef49bfa7d64a6c22338049",
      "47198071ee284bcfa75b2ec909f734f4",
      "62d3384cc6104bf38b9cfcee3aa6741b",
      "a24ad3300b3040f8a5e2dcb4c51966ed",
      "0d8569ba44634c84a58cfce6bd46d4a2",
      "653ba3519ff945e2bc77dead09c52862"
     ]
    },
    "colab_type": "code",
    "id": "DacVXiW39SqI",
    "outputId": "bcbbdcc3-98c9-4722-d3a9-c1c3fce6882c"
   },
   "outputs": [
    {
     "name": "stderr",
     "output_type": "stream",
     "text": [
      "/usr/local/lib/python3.6/dist-packages/ipykernel_launcher.py:4: TqdmDeprecationWarning: This function will be removed in tqdm==5.0.0\n",
      "Please use `tqdm.notebook.tqdm` instead of `tqdm.tqdm_notebook`\n",
      "  after removing the cwd from sys.path.\n"
     ]
    },
    {
     "data": {
      "application/vnd.jupyter.widget-view+json": {
       "model_id": "926bbbfdee204148b5b1712440e10ce2",
       "version_major": 2,
       "version_minor": 0
      },
      "text/plain": [
       "HBox(children=(FloatProgress(value=0.0, max=328050.0), HTML(value='')))"
      ]
     },
     "metadata": {},
     "output_type": "display_data"
    },
    {
     "name": "stdout",
     "output_type": "stream",
     "text": [
      "\n"
     ]
    },
    {
     "data": {
      "text/html": [
       "<div>\n",
       "<style scoped>\n",
       "    .dataframe tbody tr th:only-of-type {\n",
       "        vertical-align: middle;\n",
       "    }\n",
       "\n",
       "    .dataframe tbody tr th {\n",
       "        vertical-align: top;\n",
       "    }\n",
       "\n",
       "    .dataframe thead th {\n",
       "        text-align: right;\n",
       "    }\n",
       "</style>\n",
       "<table border=\"1\" class=\"dataframe\">\n",
       "  <thead>\n",
       "    <tr style=\"text-align: right;\">\n",
       "      <th></th>\n",
       "      <th>itemId</th>\n",
       "      <th>title</th>\n",
       "    </tr>\n",
       "  </thead>\n",
       "  <tbody>\n",
       "    <tr>\n",
       "      <th>0</th>\n",
       "      <td>0</td>\n",
       "      <td>Пять забавных «морщинистых» пород собак</td>\n",
       "    </tr>\n",
       "    <tr>\n",
       "      <th>1</th>\n",
       "      <td>1</td>\n",
       "      <td>История улицы Ирининской в  Гомеле</td>\n",
       "    </tr>\n",
       "    <tr>\n",
       "      <th>2</th>\n",
       "      <td>2</td>\n",
       "      <td>Зачем Дудь всё время спрашивает гостей програм...</td>\n",
       "    </tr>\n",
       "    <tr>\n",
       "      <th>3</th>\n",
       "      <td>3</td>\n",
       "      <td>Светлана Зейналова крестила младшую дочь</td>\n",
       "    </tr>\n",
       "    <tr>\n",
       "      <th>4</th>\n",
       "      <td>4</td>\n",
       "      <td>ГКНБ: бандиты в ГБАО делают вид, что рассталис...</td>\n",
       "    </tr>\n",
       "  </tbody>\n",
       "</table>\n",
       "</div>"
      ],
      "text/plain": [
       "   itemId                                              title\n",
       "0       0            Пять забавных «морщинистых» пород собак\n",
       "1       1                 История улицы Ирининской в  Гомеле\n",
       "2       2  Зачем Дудь всё время спрашивает гостей програм...\n",
       "3       3           Светлана Зейналова крестила младшую дочь\n",
       "4       4  ГКНБ: бандиты в ГБАО делают вид, что рассталис..."
      ]
     },
     "execution_count": 4,
     "metadata": {},
     "output_type": "execute_result"
    }
   ],
   "source": [
    "items = []\n",
    "with open('../data/interim/items.json') as items_file:\n",
    "    with Pool(cpu_count()) as p:\n",
    "        items = list(tqdm_notebook(p.imap(process_line, items_file), total=items_count))\n",
    "items = pd.DataFrame(items)\n",
    "items.head()"
   ]
  },
  {
   "cell_type": "code",
   "execution_count": 2,
   "metadata": {},
   "outputs": [
    {
     "data": {
      "text/plain": [
       "7"
      ]
     },
     "execution_count": 2,
     "metadata": {},
     "output_type": "execute_result"
    }
   ],
   "source": [
    "import gc\n",
    "gc.collect()"
   ]
  },
  {
   "cell_type": "code",
   "execution_count": 3,
   "metadata": {
    "colab": {
     "base_uri": "https://localhost:8080/",
     "height": 35,
     "referenced_widgets": [
      "5411b50b0da24de5a07d2f38da678ff5"
     ]
    },
    "colab_type": "code",
    "id": "SF5-_-7renUD",
    "outputId": "286cd077-3c80-480d-e259-5b794a4d9212"
   },
   "outputs": [
    {
     "name": "stderr",
     "output_type": "stream",
     "text": [
      "/usr/local/lib/python3.6/dist-packages/ipykernel_launcher.py:8: TqdmDeprecationWarning: This function will be removed in tqdm==5.0.0\n",
      "Please use `tqdm.notebook.tqdm` instead of `tqdm.tqdm_notebook`\n",
      "  \n"
     ]
    },
    {
     "data": {
      "application/vnd.jupyter.widget-view+json": {
       "model_id": "a26e5448b2d8464e9f76d3c3cd87c893",
       "version_major": 2,
       "version_minor": 0
      },
      "text/plain": [
       "HBox(children=(FloatProgress(value=0.0, max=42977.0), HTML(value='')))"
      ]
     },
     "metadata": {},
     "output_type": "display_data"
    },
    {
     "name": "stdout",
     "output_type": "stream",
     "text": [
      "\n"
     ]
    },
    {
     "data": {
      "text/plain": [
       "42977"
      ]
     },
     "execution_count": 3,
     "metadata": {},
     "output_type": "execute_result"
    }
   ],
   "source": [
    "data = []\n",
    "row = []\n",
    "col = []\n",
    "\n",
    "train_lines = sum(1 for line in open('../data/interim/train.json','r'))\n",
    "\n",
    "with open('../data/interim/train.json') as train_file:\n",
    "    for i, line in enumerate(tqdm_notebook(train_file, total=train_lines)):\n",
    "        json_line = json.loads(line)\n",
    "        for item, rating in json_line['trainRatings'].items():\n",
    "            data.append((-1) ** (int(rating) + 1))\n",
    "            row.append(i)\n",
    "            col.append(int(item))\n",
    "train = pd.DataFrame({'userId': row, 'itemId': col, 'rating': data})\n",
    "del data, row, col\n",
    "train.userId.nunique()\n",
    "# train_int = scipy.sparse.coo_matrix((data, (row, col)))"
   ]
  },
  {
   "cell_type": "code",
   "execution_count": 10,
   "metadata": {},
   "outputs": [],
   "source": [
    "items = items.set_index('itemId')"
   ]
  },
  {
   "cell_type": "code",
   "execution_count": 13,
   "metadata": {},
   "outputs": [
    {
     "data": {
      "text/html": [
       "<div>\n",
       "<style scoped>\n",
       "    .dataframe tbody tr th:only-of-type {\n",
       "        vertical-align: middle;\n",
       "    }\n",
       "\n",
       "    .dataframe tbody tr th {\n",
       "        vertical-align: top;\n",
       "    }\n",
       "\n",
       "    .dataframe thead th {\n",
       "        text-align: right;\n",
       "    }\n",
       "</style>\n",
       "<table border=\"1\" class=\"dataframe\">\n",
       "  <thead>\n",
       "    <tr style=\"text-align: right;\">\n",
       "      <th></th>\n",
       "      <th>title</th>\n",
       "    </tr>\n",
       "    <tr>\n",
       "      <th>itemId</th>\n",
       "      <th></th>\n",
       "    </tr>\n",
       "  </thead>\n",
       "  <tbody>\n",
       "    <tr>\n",
       "      <th>184990</th>\n",
       "      <td>В России собираются ввести налог на курение</td>\n",
       "    </tr>\n",
       "    <tr>\n",
       "      <th>75612</th>\n",
       "      <td>Отдых на халяву? Легко!</td>\n",
       "    </tr>\n",
       "    <tr>\n",
       "      <th>167043</th>\n",
       "      <td>10 пар слов, значения которых мы всегда путаем</td>\n",
       "    </tr>\n",
       "    <tr>\n",
       "      <th>204085</th>\n",
       "      <td>Тест с опущенными в воду руками на полминуты с...</td>\n",
       "    </tr>\n",
       "    <tr>\n",
       "      <th>236149</th>\n",
       "      <td>Что американцам кажется смешным. ТОП-5</td>\n",
       "    </tr>\n",
       "    <tr>\n",
       "      <th>306948</th>\n",
       "      <td>Недавно объявилась моя бывшая свекровь.</td>\n",
       "    </tr>\n",
       "    <tr>\n",
       "      <th>254293</th>\n",
       "      <td>\"Класть\" или \"ложить\": как правильно?</td>\n",
       "    </tr>\n",
       "    <tr>\n",
       "      <th>154292</th>\n",
       "      <td>Прокрустовы туфельки</td>\n",
       "    </tr>\n",
       "    <tr>\n",
       "      <th>128617</th>\n",
       "      <td>3 наречия, в которых делают ошибки безграмотны...</td>\n",
       "    </tr>\n",
       "    <tr>\n",
       "      <th>20157</th>\n",
       "      <td>Американку в России впечатлили грязная морковк...</td>\n",
       "    </tr>\n",
       "  </tbody>\n",
       "</table>\n",
       "</div>"
      ],
      "text/plain": [
       "                                                    title\n",
       "itemId                                                   \n",
       "184990        В России собираются ввести налог на курение\n",
       "75612                             Отдых на халяву? Легко!\n",
       "167043     10 пар слов, значения которых мы всегда путаем\n",
       "204085  Тест с опущенными в воду руками на полминуты с...\n",
       "236149             Что американцам кажется смешным. ТОП-5\n",
       "306948           Недавно объявилась моя бывшая свекровь. \n",
       "254293              \"Класть\" или \"ложить\": как правильно?\n",
       "154292                               Прокрустовы туфельки\n",
       "128617  3 наречия, в которых делают ошибки безграмотны...\n",
       "20157   Американку в России впечатлили грязная морковк..."
      ]
     },
     "execution_count": 13,
     "metadata": {},
     "output_type": "execute_result"
    }
   ],
   "source": [
    "items.iloc[train[(train.userId == 0) & (train.rating == 1)].itemId][10:20]"
   ]
  },
  {
   "cell_type": "code",
   "execution_count": 15,
   "metadata": {},
   "outputs": [],
   "source": [
    "items = pd.read_csv('../data/processed/processed_items.csv', index_col='itemId')"
   ]
  },
  {
   "cell_type": "code",
   "execution_count": 16,
   "metadata": {},
   "outputs": [],
   "source": [
    "items['title'] = items['title'].str.split()\n",
    "titles = list(items['title'].values)"
   ]
  },
  {
   "cell_type": "code",
   "execution_count": 6,
   "metadata": {},
   "outputs": [
    {
     "data": {
      "text/plain": [
       "userId\n",
       "1         68\n",
       "2         26\n",
       "54       104\n",
       "69        86\n",
       "77        27\n",
       "        ... \n",
       "42933    162\n",
       "42961     56\n",
       "42971     63\n",
       "42972    132\n",
       "42975     17\n",
       "Name: rating, Length: 4349, dtype: int64"
      ]
     },
     "execution_count": 6,
     "metadata": {},
     "output_type": "execute_result"
    }
   ],
   "source": [
    "test = pd.read_csv('../data/external/solution.csv')\n",
    "test.groupby('userId')['rating'].sum()"
   ]
  },
  {
   "cell_type": "code",
   "execution_count": 7,
   "metadata": {},
   "outputs": [
    {
     "data": {
      "text/plain": [
       "userId\n",
       "1         596\n",
       "2         349\n",
       "54       1727\n",
       "69        734\n",
       "77        103\n",
       "         ... \n",
       "42933     670\n",
       "42961     604\n",
       "42971     424\n",
       "42972    1007\n",
       "42975     407\n",
       "Name: rating, Length: 4349, dtype: int64"
      ]
     },
     "execution_count": 7,
     "metadata": {},
     "output_type": "execute_result"
    }
   ],
   "source": [
    "test.groupby('userId')['rating'].count()"
   ]
  },
  {
   "cell_type": "code",
   "execution_count": 3,
   "metadata": {},
   "outputs": [
    {
     "data": {
      "text/html": [
       "<div>\n",
       "<style scoped>\n",
       "    .dataframe tbody tr th:only-of-type {\n",
       "        vertical-align: middle;\n",
       "    }\n",
       "\n",
       "    .dataframe tbody tr th {\n",
       "        vertical-align: top;\n",
       "    }\n",
       "\n",
       "    .dataframe thead th {\n",
       "        text-align: right;\n",
       "    }\n",
       "</style>\n",
       "<table border=\"1\" class=\"dataframe\">\n",
       "  <thead>\n",
       "    <tr style=\"text-align: right;\">\n",
       "      <th></th>\n",
       "      <th>itemId</th>\n",
       "      <th>content</th>\n",
       "      <th>image</th>\n",
       "      <th>title</th>\n",
       "    </tr>\n",
       "  </thead>\n",
       "  <tbody>\n",
       "    <tr>\n",
       "      <th>0</th>\n",
       "      <td>0</td>\n",
       "      <td>согласиться дорогой любитель собака до что же ...</td>\n",
       "      <td>[-0.169  0.129  0.067  0.019  0.281 -0.245  0....</td>\n",
       "      <td>пять забавный морщинистый порода собака</td>\n",
       "    </tr>\n",
       "    <tr>\n",
       "      <th>1</th>\n",
       "      <td>1</td>\n",
       "      <td>контур три поперечный улица состоять до недавн...</td>\n",
       "      <td>[-0.158 -0.112 -0.325  0.05  -0.114  0.002 -0....</td>\n",
       "      <td>история улица ирининский в гомель</td>\n",
       "    </tr>\n",
       "    <tr>\n",
       "      <th>2</th>\n",
       "      <td>2</td>\n",
       "      <td>источник http infodays ru вообще он как то сам...</td>\n",
       "      <td>[ 0.084 -0.181  0.008  0.34  -0.03  -0.197 -0....</td>\n",
       "      <td>зачем дудь весь время спрашивать гость програм...</td>\n",
       "    </tr>\n",
       "    <tr>\n",
       "      <th>3</th>\n",
       "      <td>3</td>\n",
       "      <td>41 летний светлана зейналов решить окрестить 5...</td>\n",
       "      <td>[ 0.034 -0.119 -0.062  0.025  0.128 -0.041  0....</td>\n",
       "      <td>светлана зейналов крестить младший дочь</td>\n",
       "    </tr>\n",
       "    <tr>\n",
       "      <th>4</th>\n",
       "      <td>4</td>\n",
       "      <td>организовать преступный группировка гбао делат...</td>\n",
       "      <td>[-0.061 -0.015 -0.198 -0.047  0.054  0.029 -0....</td>\n",
       "      <td>гкнб бандит в гбао делать вид что расстаться с...</td>\n",
       "    </tr>\n",
       "  </tbody>\n",
       "</table>\n",
       "</div>"
      ],
      "text/plain": [
       "   itemId                                            content  \\\n",
       "0       0  согласиться дорогой любитель собака до что же ...   \n",
       "1       1  контур три поперечный улица состоять до недавн...   \n",
       "2       2  источник http infodays ru вообще он как то сам...   \n",
       "3       3  41 летний светлана зейналов решить окрестить 5...   \n",
       "4       4  организовать преступный группировка гбао делат...   \n",
       "\n",
       "                                               image  \\\n",
       "0  [-0.169  0.129  0.067  0.019  0.281 -0.245  0....   \n",
       "1  [-0.158 -0.112 -0.325  0.05  -0.114  0.002 -0....   \n",
       "2  [ 0.084 -0.181  0.008  0.34  -0.03  -0.197 -0....   \n",
       "3  [ 0.034 -0.119 -0.062  0.025  0.128 -0.041  0....   \n",
       "4  [-0.061 -0.015 -0.198 -0.047  0.054  0.029 -0....   \n",
       "\n",
       "                                               title  \n",
       "0            пять забавный морщинистый порода собака  \n",
       "1                  история улица ирининский в гомель  \n",
       "2  зачем дудь весь время спрашивать гость програм...  \n",
       "3            светлана зейналов крестить младший дочь  \n",
       "4  гкнб бандит в гбао делать вид что расстаться с...  "
      ]
     },
     "execution_count": 3,
     "metadata": {},
     "output_type": "execute_result"
    }
   ],
   "source": [
    "processed = pd.read_csv('../data/processed/processed_items.csv')\n",
    "processed.head()"
   ]
  },
  {
   "cell_type": "code",
   "execution_count": 9,
   "metadata": {},
   "outputs": [
    {
     "data": {
      "text/plain": [
       "'пять_NUM забавный_ADJ морщинистый_ADJ порода_NOUN собака_NOUN'"
      ]
     },
     "execution_count": 9,
     "metadata": {},
     "output_type": "execute_result"
    }
   ],
   "source": [
    "' '.join(list(map(tag, processed.title[0].split())))"
   ]
  },
  {
   "cell_type": "code",
   "execution_count": 6,
   "metadata": {},
   "outputs": [],
   "source": [
    "from pymystem3 import Mystem\n",
    "\n",
    "conversion_table = {\n",
    "    'A': 'ADJ',\n",
    "    'ADV': 'ADV',\n",
    "    'ADVPRO': 'ADV',\n",
    "    'ANUM': 'ADJ',\n",
    "    'APRO': 'DET',\n",
    "    'COM': 'ADJ',\n",
    "    'CONJ': 'SCONJ',\n",
    "    'INTJ': 'INTJ',\n",
    "    'NONLEX': 'X',\n",
    "    'NUM': 'NUM',\n",
    "    'PART': 'PART',\n",
    "    'PR': 'ADP',\n",
    "    'S': 'NOUN',\n",
    "    'SPRO': 'PRON',\n",
    "    'UNKN': 'X',\n",
    "    'V': 'VERB'\n",
    "}\n",
    "\n",
    "m = Mystem()\n",
    "\n",
    "def tag(word='пожар'):\n",
    "    processed = m.analyze(word)[0]\n",
    "    if 'analysis' not in processed or not processed[\"analysis\"]:\n",
    "        return None\n",
    "    lemma = processed[\"analysis\"][0][\"lex\"].lower().strip()\n",
    "    pos = processed[\"analysis\"][0][\"gr\"].split(',')[0]\n",
    "    pos = pos.split('=')[0].strip()\n",
    "    pos = conversion_table.get(pos)\n",
    "    tagged = lemma + '_' + pos\n",
    "    return tagged"
   ]
  },
  {
   "cell_type": "code",
   "execution_count": null,
   "metadata": {},
   "outputs": [],
   "source": []
  }
 ],
 "metadata": {
  "accelerator": "GPU",
  "colab": {
   "name": "linear_recommender.ipynb",
   "provenance": []
  },
  "kernelspec": {
   "display_name": "Python 3",
   "language": "python",
   "name": "python3"
  },
  "language_info": {
   "codemirror_mode": {
    "name": "ipython",
    "version": 3
   },
   "file_extension": ".py",
   "mimetype": "text/x-python",
   "name": "python",
   "nbconvert_exporter": "python",
   "pygments_lexer": "ipython3",
   "version": "3.6.9"
  },
  "widgets": {
   "application/vnd.jupyter.widget-state+json": {
    "0d48c8f97e9f4249945f5243e742ef8e": {
     "model_module": "@jupyter-widgets/base",
     "model_name": "LayoutModel",
     "state": {
      "_model_module": "@jupyter-widgets/base",
      "_model_module_version": "1.2.0",
      "_model_name": "LayoutModel",
      "_view_count": null,
      "_view_module": "@jupyter-widgets/base",
      "_view_module_version": "1.2.0",
      "_view_name": "LayoutView",
      "align_content": null,
      "align_items": null,
      "align_self": null,
      "border": null,
      "bottom": null,
      "display": null,
      "flex": null,
      "flex_flow": null,
      "grid_area": null,
      "grid_auto_columns": null,
      "grid_auto_flow": null,
      "grid_auto_rows": null,
      "grid_column": null,
      "grid_gap": null,
      "grid_row": null,
      "grid_template_areas": null,
      "grid_template_columns": null,
      "grid_template_rows": null,
      "height": null,
      "justify_content": null,
      "justify_items": null,
      "left": null,
      "margin": null,
      "max_height": null,
      "max_width": null,
      "min_height": null,
      "min_width": null,
      "object_fit": null,
      "object_position": null,
      "order": null,
      "overflow": null,
      "overflow_x": null,
      "overflow_y": null,
      "padding": null,
      "right": null,
      "top": null,
      "visibility": null,
      "width": null
     }
    },
    "0d8569ba44634c84a58cfce6bd46d4a2": {
     "model_module": "@jupyter-widgets/controls",
     "model_name": "DescriptionStyleModel",
     "state": {
      "_model_module": "@jupyter-widgets/controls",
      "_model_module_version": "1.5.0",
      "_model_name": "DescriptionStyleModel",
      "_view_count": null,
      "_view_module": "@jupyter-widgets/base",
      "_view_module_version": "1.2.0",
      "_view_name": "StyleView",
      "description_width": ""
     }
    },
    "47198071ee284bcfa75b2ec909f734f4": {
     "model_module": "@jupyter-widgets/controls",
     "model_name": "HTMLModel",
     "state": {
      "_dom_classes": [],
      "_model_module": "@jupyter-widgets/controls",
      "_model_module_version": "1.5.0",
      "_model_name": "HTMLModel",
      "_view_count": null,
      "_view_module": "@jupyter-widgets/controls",
      "_view_module_version": "1.5.0",
      "_view_name": "HTMLView",
      "description": "",
      "description_tooltip": null,
      "layout": "IPY_MODEL_653ba3519ff945e2bc77dead09c52862",
      "placeholder": "​",
      "style": "IPY_MODEL_0d8569ba44634c84a58cfce6bd46d4a2",
      "value": "  3% 8355/328050 [06:01&lt;3:41:52, 24.01it/s]"
     }
    },
    "565d4ff7fa0c4ffba9dba7b4c52da942": {
     "model_module": "@jupyter-widgets/controls",
     "model_name": "HBoxModel",
     "state": {
      "_dom_classes": [],
      "_model_module": "@jupyter-widgets/controls",
      "_model_module_version": "1.5.0",
      "_model_name": "HBoxModel",
      "_view_count": null,
      "_view_module": "@jupyter-widgets/controls",
      "_view_module_version": "1.5.0",
      "_view_name": "HBoxView",
      "box_style": "",
      "children": [
       "IPY_MODEL_e221d473f0ef49bfa7d64a6c22338049",
       "IPY_MODEL_47198071ee284bcfa75b2ec909f734f4"
      ],
      "layout": "IPY_MODEL_0d48c8f97e9f4249945f5243e742ef8e"
     }
    },
    "62d3384cc6104bf38b9cfcee3aa6741b": {
     "model_module": "@jupyter-widgets/controls",
     "model_name": "ProgressStyleModel",
     "state": {
      "_model_module": "@jupyter-widgets/controls",
      "_model_module_version": "1.5.0",
      "_model_name": "ProgressStyleModel",
      "_view_count": null,
      "_view_module": "@jupyter-widgets/base",
      "_view_module_version": "1.2.0",
      "_view_name": "StyleView",
      "bar_color": null,
      "description_width": ""
     }
    },
    "653ba3519ff945e2bc77dead09c52862": {
     "model_module": "@jupyter-widgets/base",
     "model_name": "LayoutModel",
     "state": {
      "_model_module": "@jupyter-widgets/base",
      "_model_module_version": "1.2.0",
      "_model_name": "LayoutModel",
      "_view_count": null,
      "_view_module": "@jupyter-widgets/base",
      "_view_module_version": "1.2.0",
      "_view_name": "LayoutView",
      "align_content": null,
      "align_items": null,
      "align_self": null,
      "border": null,
      "bottom": null,
      "display": null,
      "flex": null,
      "flex_flow": null,
      "grid_area": null,
      "grid_auto_columns": null,
      "grid_auto_flow": null,
      "grid_auto_rows": null,
      "grid_column": null,
      "grid_gap": null,
      "grid_row": null,
      "grid_template_areas": null,
      "grid_template_columns": null,
      "grid_template_rows": null,
      "height": null,
      "justify_content": null,
      "justify_items": null,
      "left": null,
      "margin": null,
      "max_height": null,
      "max_width": null,
      "min_height": null,
      "min_width": null,
      "object_fit": null,
      "object_position": null,
      "order": null,
      "overflow": null,
      "overflow_x": null,
      "overflow_y": null,
      "padding": null,
      "right": null,
      "top": null,
      "visibility": null,
      "width": null
     }
    },
    "a24ad3300b3040f8a5e2dcb4c51966ed": {
     "model_module": "@jupyter-widgets/base",
     "model_name": "LayoutModel",
     "state": {
      "_model_module": "@jupyter-widgets/base",
      "_model_module_version": "1.2.0",
      "_model_name": "LayoutModel",
      "_view_count": null,
      "_view_module": "@jupyter-widgets/base",
      "_view_module_version": "1.2.0",
      "_view_name": "LayoutView",
      "align_content": null,
      "align_items": null,
      "align_self": null,
      "border": null,
      "bottom": null,
      "display": null,
      "flex": null,
      "flex_flow": null,
      "grid_area": null,
      "grid_auto_columns": null,
      "grid_auto_flow": null,
      "grid_auto_rows": null,
      "grid_column": null,
      "grid_gap": null,
      "grid_row": null,
      "grid_template_areas": null,
      "grid_template_columns": null,
      "grid_template_rows": null,
      "height": null,
      "justify_content": null,
      "justify_items": null,
      "left": null,
      "margin": null,
      "max_height": null,
      "max_width": null,
      "min_height": null,
      "min_width": null,
      "object_fit": null,
      "object_position": null,
      "order": null,
      "overflow": null,
      "overflow_x": null,
      "overflow_y": null,
      "padding": null,
      "right": null,
      "top": null,
      "visibility": null,
      "width": null
     }
    },
    "e221d473f0ef49bfa7d64a6c22338049": {
     "model_module": "@jupyter-widgets/controls",
     "model_name": "IntProgressModel",
     "state": {
      "_dom_classes": [],
      "_model_module": "@jupyter-widgets/controls",
      "_model_module_version": "1.5.0",
      "_model_name": "IntProgressModel",
      "_view_count": null,
      "_view_module": "@jupyter-widgets/controls",
      "_view_module_version": "1.5.0",
      "_view_name": "ProgressView",
      "bar_style": "danger",
      "description": "",
      "description_tooltip": null,
      "layout": "IPY_MODEL_a24ad3300b3040f8a5e2dcb4c51966ed",
      "max": 328050,
      "min": 0,
      "orientation": "horizontal",
      "style": "IPY_MODEL_62d3384cc6104bf38b9cfcee3aa6741b",
      "value": 8355
     }
    }
   }
  }
 },
 "nbformat": 4,
 "nbformat_minor": 1
}
