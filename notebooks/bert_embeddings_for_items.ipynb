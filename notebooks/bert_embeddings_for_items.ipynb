{
 "cells": [
  {
   "cell_type": "code",
   "execution_count": 1,
   "metadata": {},
   "outputs": [],
   "source": [
    "!mkdir embeddings"
   ]
  },
  {
   "cell_type": "code",
   "execution_count": 2,
   "metadata": {},
   "outputs": [
    {
     "name": "stdout",
     "output_type": "stream",
     "text": [
      "--2020-04-02 11:18:12--  http://files.deeppavlov.ai/deeppavlov_data/bert/sentence_ru_cased_L-12_H-768_A-12_pt.tar.gz\n",
      "Resolving files.deeppavlov.ai (files.deeppavlov.ai)... 93.175.29.74\n",
      "Connecting to files.deeppavlov.ai (files.deeppavlov.ai)|93.175.29.74|:80... connected.\n",
      "HTTP request sent, awaiting response... 200 OK\n",
      "Length: 661614603 (631M) [application/octet-stream]\n",
      "Saving to: ‘drive/My Drive/news_rec_2020/embeddings/sentence_ru_cased_L-12_H-768_A-12_pt.tar.gz’\n",
      "\n",
      "sentence_ru_cased_L 100%[===================>] 630.96M  8.43MB/s    in 94s     \n",
      "\n",
      "2020-04-02 11:19:46 (6.73 MB/s) - ‘drive/My Drive/news_rec_2020/embeddings/sentence_ru_cased_L-12_H-768_A-12_pt.tar.gz’ saved [661614603/661614603]\n",
      "\n",
      "sentence_ru_cased_L-12_H-768_A-12_pt/\n",
      "sentence_ru_cased_L-12_H-768_A-12_pt/pytorch_model.bin\n",
      "sentence_ru_cased_L-12_H-768_A-12_pt/bert_config.json\n",
      "sentence_ru_cased_L-12_H-768_A-12_pt/vocab.txt\n"
     ]
    }
   ],
   "source": [
    "!wget -P 'drive/My Drive/news_rec_2020/embeddings' http://files.deeppavlov.ai/deeppavlov_data/bert/sentence_ru_cased_L-12_H-768_A-12_pt.tar.gz\n",
    "!tar -zxvf 'drive/My Drive/news_rec_2020/embeddings/sentence_ru_cased_L-12_H-768_A-12_pt.tar.gz'"
   ]
  },
  {
   "cell_type": "code",
   "execution_count": 1,
   "metadata": {},
   "outputs": [
    {
     "name": "stdout",
     "output_type": "stream",
     "text": [
      "Requirement already satisfied: deeppavlov in /home/vnkljukin/.local/lib/python3.6/site-packages (0.8.0)\n",
      "Requirement already satisfied: aio-pika==6.4.1 in /home/vnkljukin/.local/lib/python3.6/site-packages (from deeppavlov) (6.4.1)\n",
      "Requirement already satisfied: pyopenssl==19.1.0 in /home/vnkljukin/.local/lib/python3.6/site-packages (from deeppavlov) (19.1.0)\n",
      "Requirement already satisfied: pandas==0.25.3 in /home/vnkljukin/.local/lib/python3.6/site-packages (from deeppavlov) (0.25.3)\n",
      "Requirement already satisfied: pytelegrambotapi==3.6.7 in /home/vnkljukin/.local/lib/python3.6/site-packages (from deeppavlov) (3.6.7)\n",
      "Requirement already satisfied: overrides==2.7.0 in /home/vnkljukin/.local/lib/python3.6/site-packages (from deeppavlov) (2.7.0)\n",
      "Requirement already satisfied: numpy==1.18.0 in /home/vnkljukin/.local/lib/python3.6/site-packages (from deeppavlov) (1.18.0)\n",
      "Requirement already satisfied: pymorphy2==0.8 in /home/vnkljukin/.local/lib/python3.6/site-packages (from deeppavlov) (0.8)\n",
      "Requirement already satisfied: pymorphy2-dicts-ru in /home/vnkljukin/.local/lib/python3.6/site-packages (from deeppavlov) (2.4.404381.4453942)\n",
      "Requirement already satisfied: nltk==3.4.5 in /usr/local/lib/python3.6/dist-packages (from deeppavlov) (3.4.5)\n",
      "Requirement already satisfied: h5py==2.10.0 in /usr/local/lib/python3.6/dist-packages (from deeppavlov) (2.10.0)\n",
      "Requirement already satisfied: fastapi==0.47.1 in /home/vnkljukin/.local/lib/python3.6/site-packages (from deeppavlov) (0.47.1)\n",
      "Requirement already satisfied: requests==2.22.0 in /home/vnkljukin/.local/lib/python3.6/site-packages (from deeppavlov) (2.22.0)\n",
      "Requirement already satisfied: scikit-learn==0.21.2 in /home/vnkljukin/.local/lib/python3.6/site-packages (from deeppavlov) (0.21.2)\n",
      "Requirement already satisfied: uvicorn==0.11.1 in /home/vnkljukin/.local/lib/python3.6/site-packages (from deeppavlov) (0.11.1)\n",
      "Requirement already satisfied: rusenttokenize==0.0.5 in /home/vnkljukin/.local/lib/python3.6/site-packages (from deeppavlov) (0.0.5)\n",
      "Requirement already satisfied: scipy==1.4.1 in /usr/local/lib/python3.6/dist-packages (from deeppavlov) (1.4.1)\n",
      "Requirement already satisfied: tqdm==4.41.1 in /home/vnkljukin/.local/lib/python3.6/site-packages (from deeppavlov) (4.41.1)\n",
      "Requirement already satisfied: Cython==0.29.14 in /home/vnkljukin/.local/lib/python3.6/site-packages (from deeppavlov) (0.29.14)\n",
      "Requirement already satisfied: fuzzywuzzy==0.17.0 in /home/vnkljukin/.local/lib/python3.6/site-packages (from deeppavlov) (0.17.0)\n",
      "Requirement already satisfied: pydantic==1.3 in /home/vnkljukin/.local/lib/python3.6/site-packages (from deeppavlov) (1.3)\n",
      "Requirement already satisfied: aiormq<4,>=3.2.0 in /home/vnkljukin/.local/lib/python3.6/site-packages (from aio-pika==6.4.1->deeppavlov) (3.2.1)\n",
      "Requirement already satisfied: yarl in /home/vnkljukin/.local/lib/python3.6/site-packages (from aio-pika==6.4.1->deeppavlov) (1.4.2)\n",
      "Requirement already satisfied: cryptography>=2.8 in /home/vnkljukin/.local/lib/python3.6/site-packages (from pyopenssl==19.1.0->deeppavlov) (2.8)\n",
      "Requirement already satisfied: six>=1.5.2 in /usr/local/lib/python3.6/dist-packages (from pyopenssl==19.1.0->deeppavlov) (1.14.0)\n",
      "Requirement already satisfied: pytz>=2017.2 in /usr/local/lib/python3.6/dist-packages (from pandas==0.25.3->deeppavlov) (2019.3)\n",
      "Requirement already satisfied: python-dateutil>=2.6.1 in /usr/local/lib/python3.6/dist-packages (from pandas==0.25.3->deeppavlov) (2.8.1)\n",
      "Requirement already satisfied: docopt>=0.6 in /home/vnkljukin/.local/lib/python3.6/site-packages (from pymorphy2==0.8->deeppavlov) (0.6.2)\n",
      "Requirement already satisfied: dawg-python>=0.7 in /home/vnkljukin/.local/lib/python3.6/site-packages (from pymorphy2==0.8->deeppavlov) (0.7.2)\n",
      "Requirement already satisfied: pymorphy2-dicts<3.0,>=2.4 in /home/vnkljukin/.local/lib/python3.6/site-packages (from pymorphy2==0.8->deeppavlov) (2.4.393442.3710985)\n",
      "Requirement already satisfied: starlette<=0.12.9,>=0.12.9 in /home/vnkljukin/.local/lib/python3.6/site-packages (from fastapi==0.47.1->deeppavlov) (0.12.9)\n",
      "Requirement already satisfied: idna<2.9,>=2.5 in /usr/lib/python3/dist-packages (from requests==2.22.0->deeppavlov) (2.6)\n",
      "Requirement already satisfied: certifi>=2017.4.17 in /usr/lib/python3/dist-packages (from requests==2.22.0->deeppavlov) (2018.1.18)\n",
      "Requirement already satisfied: chardet<3.1.0,>=3.0.2 in /usr/lib/python3/dist-packages (from requests==2.22.0->deeppavlov) (3.0.4)\n",
      "Requirement already satisfied: urllib3!=1.25.0,!=1.25.1,<1.26,>=1.21.1 in /usr/lib/python3/dist-packages (from requests==2.22.0->deeppavlov) (1.22)\n",
      "Requirement already satisfied: joblib>=0.11 in /usr/local/lib/python3.6/dist-packages (from scikit-learn==0.21.2->deeppavlov) (0.14.1)\n",
      "Requirement already satisfied: uvloop>=0.14.0; sys_platform != \"win32\" and sys_platform != \"cygwin\" and platform_python_implementation != \"pypy\" in /home/vnkljukin/.local/lib/python3.6/site-packages (from uvicorn==0.11.1->deeppavlov) (0.14.0)\n",
      "Requirement already satisfied: h11<0.10,>=0.8 in /home/vnkljukin/.local/lib/python3.6/site-packages (from uvicorn==0.11.1->deeppavlov) (0.9.0)\n",
      "Requirement already satisfied: websockets==8.* in /home/vnkljukin/.local/lib/python3.6/site-packages (from uvicorn==0.11.1->deeppavlov) (8.1)\n",
      "Requirement already satisfied: click==7.* in /home/vnkljukin/.local/lib/python3.6/site-packages (from uvicorn==0.11.1->deeppavlov) (7.1.1)\n",
      "Requirement already satisfied: httptools==0.0.13; sys_platform != \"win32\" and sys_platform != \"cygwin\" and platform_python_implementation != \"pypy\" in /home/vnkljukin/.local/lib/python3.6/site-packages (from uvicorn==0.11.1->deeppavlov) (0.0.13)\n",
      "Requirement already satisfied: dataclasses>=0.6; python_version < \"3.7\" in /home/vnkljukin/.local/lib/python3.6/site-packages (from pydantic==1.3->deeppavlov) (0.7)\n",
      "Requirement already satisfied: pamqp==2.3.0 in /home/vnkljukin/.local/lib/python3.6/site-packages (from aiormq<4,>=3.2.0->aio-pika==6.4.1->deeppavlov) (2.3.0)\n",
      "Requirement already satisfied: multidict>=4.0 in /home/vnkljukin/.local/lib/python3.6/site-packages (from yarl->aio-pika==6.4.1->deeppavlov) (4.7.5)\n",
      "Requirement already satisfied: cffi!=1.11.3,>=1.8 in /usr/local/lib/python3.6/dist-packages (from cryptography>=2.8->pyopenssl==19.1.0->deeppavlov) (1.14.0)\n",
      "Requirement already satisfied: pycparser in /usr/local/lib/python3.6/dist-packages (from cffi!=1.11.3,>=1.8->cryptography>=2.8->pyopenssl==19.1.0->deeppavlov) (2.20)\n",
      "Requirement already satisfied: transformers in /home/vnkljukin/.local/lib/python3.6/site-packages (2.7.0)\n",
      "Requirement already satisfied: tokenizers==0.5.2 in /home/vnkljukin/.local/lib/python3.6/site-packages (from transformers) (0.5.2)\n",
      "Requirement already satisfied: boto3 in /home/vnkljukin/.local/lib/python3.6/site-packages (from transformers) (1.12.34)\n",
      "Requirement already satisfied: filelock in /home/vnkljukin/.local/lib/python3.6/site-packages (from transformers) (3.0.12)\n",
      "Requirement already satisfied: sentencepiece in /home/vnkljukin/.local/lib/python3.6/site-packages (from transformers) (0.1.85)\n",
      "Requirement already satisfied: regex!=2019.12.17 in /home/vnkljukin/.local/lib/python3.6/site-packages (from transformers) (2020.2.20)\n",
      "Requirement already satisfied: dataclasses; python_version < \"3.7\" in /home/vnkljukin/.local/lib/python3.6/site-packages (from transformers) (0.7)\n",
      "Requirement already satisfied: tqdm>=4.27 in /home/vnkljukin/.local/lib/python3.6/site-packages (from transformers) (4.41.1)\n",
      "Requirement already satisfied: sacremoses in /home/vnkljukin/.local/lib/python3.6/site-packages (from transformers) (0.0.38)\n",
      "Requirement already satisfied: numpy in /home/vnkljukin/.local/lib/python3.6/site-packages (from transformers) (1.18.0)\n",
      "Requirement already satisfied: requests in /home/vnkljukin/.local/lib/python3.6/site-packages (from transformers) (2.22.0)\n",
      "Requirement already satisfied: jmespath<1.0.0,>=0.7.1 in /home/vnkljukin/.local/lib/python3.6/site-packages (from boto3->transformers) (0.9.5)\n",
      "Requirement already satisfied: s3transfer<0.4.0,>=0.3.0 in /home/vnkljukin/.local/lib/python3.6/site-packages (from boto3->transformers) (0.3.3)\n",
      "Requirement already satisfied: botocore<1.16.0,>=1.15.34 in /home/vnkljukin/.local/lib/python3.6/site-packages (from boto3->transformers) (1.15.34)\n",
      "Requirement already satisfied: click in /home/vnkljukin/.local/lib/python3.6/site-packages (from sacremoses->transformers) (7.1.1)\n",
      "Requirement already satisfied: six in /usr/local/lib/python3.6/dist-packages (from sacremoses->transformers) (1.14.0)\n",
      "Requirement already satisfied: joblib in /usr/local/lib/python3.6/dist-packages (from sacremoses->transformers) (0.14.1)\n",
      "Requirement already satisfied: urllib3!=1.25.0,!=1.25.1,<1.26,>=1.21.1 in /usr/lib/python3/dist-packages (from requests->transformers) (1.22)\n",
      "Requirement already satisfied: certifi>=2017.4.17 in /usr/lib/python3/dist-packages (from requests->transformers) (2018.1.18)\n",
      "Requirement already satisfied: idna<2.9,>=2.5 in /usr/lib/python3/dist-packages (from requests->transformers) (2.6)\n",
      "Requirement already satisfied: chardet<3.1.0,>=3.0.2 in /usr/lib/python3/dist-packages (from requests->transformers) (3.0.4)\n",
      "Requirement already satisfied: python-dateutil<3.0.0,>=2.1 in /usr/local/lib/python3.6/dist-packages (from botocore<1.16.0,>=1.15.34->boto3->transformers) (2.8.1)\n"
     ]
    },
    {
     "name": "stdout",
     "output_type": "stream",
     "text": [
      "Requirement already satisfied: docutils<0.16,>=0.10 in /home/vnkljukin/.local/lib/python3.6/site-packages (from botocore<1.16.0,>=1.15.34->boto3->transformers) (0.15.2)\r\n"
     ]
    }
   ],
   "source": [
    "!pip3 install --user deeppavlov\n",
    "!pip3 install --user transformers"
   ]
  },
  {
   "cell_type": "code",
   "execution_count": 1,
   "metadata": {},
   "outputs": [
    {
     "name": "stdout",
     "output_type": "stream",
     "text": [
      "1.4.0\n",
      "True\n"
     ]
    }
   ],
   "source": [
    "import torch\n",
    "print(torch.__version__)\n",
    "print(torch.cuda.is_available())"
   ]
  },
  {
   "cell_type": "code",
   "execution_count": 2,
   "metadata": {},
   "outputs": [
    {
     "name": "stderr",
     "output_type": "stream",
     "text": [
      "[nltk_data] Downloading package punkt to /home/vnkljukin/nltk_data...\n",
      "[nltk_data]   Package punkt is already up-to-date!\n",
      "[nltk_data] Downloading package stopwords to\n",
      "[nltk_data]     /home/vnkljukin/nltk_data...\n",
      "[nltk_data]   Package stopwords is already up-to-date!\n",
      "[nltk_data] Downloading package perluniprops to\n",
      "[nltk_data]     /home/vnkljukin/nltk_data...\n",
      "[nltk_data]   Package perluniprops is already up-to-date!\n",
      "[nltk_data] Downloading package nonbreaking_prefixes to\n",
      "[nltk_data]     /home/vnkljukin/nltk_data...\n",
      "[nltk_data]   Package nonbreaking_prefixes is already up-to-date!\n"
     ]
    },
    {
     "data": {
      "text/plain": [
       "array([[-0.191129  , -0.47446856,  0.3506737 , ..., -0.2261294 ,\n",
       "         0.46362826,  0.45683557],\n",
       "       [-0.1404717 , -0.4969943 ,  0.18004802, ..., -0.10774759,\n",
       "         0.24053936,  0.29534283]], dtype=float32)"
      ]
     },
     "execution_count": 2,
     "metadata": {},
     "output_type": "execute_result"
    }
   ],
   "source": [
    "# http://docs.deeppavlov.ai/en/master/features/models/bert.html#bert-as-embedder\n",
    "\n",
    "from deeppavlov.core.common.file import read_json\n",
    "from deeppavlov import build_model, configs\n",
    "\n",
    "bert_config = read_json(configs.embedder.bert_sentence_embedder)\n",
    "bert_config['metadata']['variables']['BERT_PATH'] = 'sentence_ru_cased_L-12_H-768_A-12_pt'\n",
    "\n",
    "bert = build_model(bert_config)\n",
    "\n",
    "texts = ['Как твои дела?', 'Как твое здоровье?']\n",
    "max_emb, mean_emb, pooler_output = bert(texts)\n",
    "pooler_output"
   ]
  },
  {
   "cell_type": "code",
   "execution_count": 3,
   "metadata": {},
   "outputs": [
    {
     "data": {
      "text/plain": [
       "array([[-0.19112898, -0.4744686 ,  0.35067368, ..., -0.22612953,\n",
       "         0.4636283 ,  0.4568356 ],\n",
       "       [-0.14047155, -0.4969943 ,  0.18004806, ..., -0.10774761,\n",
       "         0.24053934,  0.29534283],\n",
       "       [-0.12264521, -0.41991535,  0.221898  , ..., -0.10056899,\n",
       "         0.24817692,  0.20215514]], dtype=float32)"
      ]
     },
     "execution_count": 3,
     "metadata": {},
     "output_type": "execute_result"
    }
   ],
   "source": [
    "texts = ['Как твои дела?', 'Как твое здоровье?', 'Как твои дела? Как твое здоровье?']\n",
    "_, _, pooler_output = bert(texts)\n",
    "pooler_output"
   ]
  },
  {
   "cell_type": "code",
   "execution_count": 4,
   "metadata": {},
   "outputs": [
    {
     "name": "stdout",
     "output_type": "stream",
     "text": [
      "Thu Apr  2 12:40:19 2020       \n",
      "+-----------------------------------------------------------------------------+\n",
      "| NVIDIA-SMI 440.64       Driver Version: 440.64       CUDA Version: 10.2     |\n",
      "|-------------------------------+----------------------+----------------------+\n",
      "| GPU  Name        Persistence-M| Bus-Id        Disp.A | Volatile Uncorr. ECC |\n",
      "| Fan  Temp  Perf  Pwr:Usage/Cap|         Memory-Usage | GPU-Util  Compute M. |\n",
      "|===============================+======================+======================|\n",
      "|   0  Quadro RTX 4000     On   | 00000000:02:00.0 Off |                  N/A |\n",
      "| 30%   27C    P8    14W / 125W |     12MiB /  7982MiB |      0%      Default |\n",
      "+-------------------------------+----------------------+----------------------+\n",
      "|   1  Quadro RTX 4000     On   | 00000000:05:00.0 Off |                  N/A |\n",
      "| 30%   33C    P0    37W / 125W |   1529MiB /  7982MiB |      0%      Default |\n",
      "+-------------------------------+----------------------+----------------------+\n",
      "|   2  Quadro RTX 4000     On   | 00000000:06:00.0 Off |                  N/A |\n",
      "| 30%   31C    P8    13W / 125W |     12MiB /  7982MiB |      0%      Default |\n",
      "+-------------------------------+----------------------+----------------------+\n",
      "|   3  Quadro RTX 4000     On   | 00000000:81:00.0 Off |                  N/A |\n",
      "| 30%   26C    P8    10W / 125W |     12MiB /  7982MiB |      0%      Default |\n",
      "+-------------------------------+----------------------+----------------------+\n",
      "|   4  Quadro RTX 4000     On   | 00000000:84:00.0 Off |                  N/A |\n",
      "| 30%   43C    P0    39W / 125W |    885MiB /  7982MiB |     16%      Default |\n",
      "+-------------------------------+----------------------+----------------------+\n",
      "|   5  Quadro RTX 4000     On   | 00000000:85:00.0 Off |                  N/A |\n",
      "| 63%   71C    P0    47W / 125W |   7859MiB /  7982MiB |      0%      Default |\n",
      "+-------------------------------+----------------------+----------------------+\n",
      "                                                                               \n",
      "+-----------------------------------------------------------------------------+\n",
      "| Processes:                                                       GPU Memory |\n",
      "|  GPU       PID   Type   Process name                             Usage      |\n",
      "|=============================================================================|\n",
      "|    1     26009      C   /usr/bin/python3                            1517MiB |\n",
      "|    4     17508      C   /usr/bin/python3                             873MiB |\n",
      "|    5     42532      C   /usr/bin/python3                            7847MiB |\n",
      "+-----------------------------------------------------------------------------+\n"
     ]
    }
   ],
   "source": [
    "!nvidia-smi"
   ]
  },
  {
   "cell_type": "code",
   "execution_count": 5,
   "metadata": {},
   "outputs": [],
   "source": [
    "def process_line(line):\n",
    "    return json.loads(line)"
   ]
  },
  {
   "cell_type": "code",
   "execution_count": 6,
   "metadata": {},
   "outputs": [
    {
     "data": {
      "text/plain": [
       "328050"
      ]
     },
     "execution_count": 6,
     "metadata": {},
     "output_type": "execute_result"
    }
   ],
   "source": [
    "items_count = 0\n",
    "with open('items.json') as items_file:\n",
    "    for line in items_file:\n",
    "        items_count += 1\n",
    "items_count"
   ]
  },
  {
   "cell_type": "code",
   "execution_count": 7,
   "metadata": {},
   "outputs": [],
   "source": [
    "import json\n",
    "import pandas as pd\n",
    "import numpy as np\n",
    "import matplotlib.pyplot as plt\n",
    "\n",
    "from tqdm.notebook import tqdm\n",
    "from collections import defaultdict\n",
    "from multiprocessing import Pool, cpu_count"
   ]
  },
  {
   "cell_type": "code",
   "execution_count": 9,
   "metadata": {},
   "outputs": [
    {
     "data": {
      "application/vnd.jupyter.widget-view+json": {
       "model_id": "eebedec133914ab4807d0ed16b93db81",
       "version_major": 2,
       "version_minor": 0
      },
      "text/plain": [
       "HBox(children=(FloatProgress(value=0.0, max=328050.0), HTML(value='')))"
      ]
     },
     "metadata": {},
     "output_type": "display_data"
    },
    {
     "name": "stdout",
     "output_type": "stream",
     "text": [
      "\n"
     ]
    },
    {
     "data": {
      "text/html": [
       "<div>\n",
       "<style scoped>\n",
       "    .dataframe tbody tr th:only-of-type {\n",
       "        vertical-align: middle;\n",
       "    }\n",
       "\n",
       "    .dataframe tbody tr th {\n",
       "        vertical-align: top;\n",
       "    }\n",
       "\n",
       "    .dataframe thead th {\n",
       "        text-align: right;\n",
       "    }\n",
       "</style>\n",
       "<table border=\"1\" class=\"dataframe\">\n",
       "  <thead>\n",
       "    <tr style=\"text-align: right;\">\n",
       "      <th></th>\n",
       "      <th>content</th>\n",
       "      <th>image</th>\n",
       "      <th>title</th>\n",
       "    </tr>\n",
       "    <tr>\n",
       "      <th>itemId</th>\n",
       "      <th></th>\n",
       "      <th></th>\n",
       "      <th></th>\n",
       "    </tr>\n",
       "  </thead>\n",
       "  <tbody>\n",
       "    <tr>\n",
       "      <th>0</th>\n",
       "      <td>Согласитесь, дорогие любители собак, до чего ж...</td>\n",
       "      <td>[-0.169, 0.129, 0.067, 0.019, 0.281, -0.245, 0...</td>\n",
       "      <td>Пять забавных «морщинистых» пород собак</td>\n",
       "    </tr>\n",
       "    <tr>\n",
       "      <th>1</th>\n",
       "      <td>Контуры Третьей Поперечной улицы, состоявшей ...</td>\n",
       "      <td>[-0.158, -0.112, -0.325, 0.05, -0.114, 0.002, ...</td>\n",
       "      <td>История улицы Ирининской в  Гомеле</td>\n",
       "    </tr>\n",
       "    <tr>\n",
       "      <th>2</th>\n",
       "      <td>Источник: http://infodays.ru Вообще он как-то ...</td>\n",
       "      <td>[0.084, -0.181, 0.008, 0.34, -0.03, -0.197, -0...</td>\n",
       "      <td>Зачем Дудь всё время спрашивает гостей програм...</td>\n",
       "    </tr>\n",
       "    <tr>\n",
       "      <th>3</th>\n",
       "      <td>41-летняя Светлана Зейналова решила окрестить ...</td>\n",
       "      <td>[0.034, -0.119, -0.062, 0.025, 0.128, -0.041, ...</td>\n",
       "      <td>Светлана Зейналова крестила младшую дочь</td>\n",
       "    </tr>\n",
       "    <tr>\n",
       "      <th>4</th>\n",
       "      <td>«Организованные преступные группировки ГБАО де...</td>\n",
       "      <td>[-0.061, -0.015, -0.198, -0.047, 0.054, 0.029,...</td>\n",
       "      <td>ГКНБ: бандиты в ГБАО делают вид, что рассталис...</td>\n",
       "    </tr>\n",
       "  </tbody>\n",
       "</table>\n",
       "</div>"
      ],
      "text/plain": [
       "                                                  content  \\\n",
       "itemId                                                      \n",
       "0       Согласитесь, дорогие любители собак, до чего ж...   \n",
       "1        Контуры Третьей Поперечной улицы, состоявшей ...   \n",
       "2       Источник: http://infodays.ru Вообще он как-то ...   \n",
       "3       41-летняя Светлана Зейналова решила окрестить ...   \n",
       "4       «Организованные преступные группировки ГБАО де...   \n",
       "\n",
       "                                                    image  \\\n",
       "itemId                                                      \n",
       "0       [-0.169, 0.129, 0.067, 0.019, 0.281, -0.245, 0...   \n",
       "1       [-0.158, -0.112, -0.325, 0.05, -0.114, 0.002, ...   \n",
       "2       [0.084, -0.181, 0.008, 0.34, -0.03, -0.197, -0...   \n",
       "3       [0.034, -0.119, -0.062, 0.025, 0.128, -0.041, ...   \n",
       "4       [-0.061, -0.015, -0.198, -0.047, 0.054, 0.029,...   \n",
       "\n",
       "                                                    title  \n",
       "itemId                                                     \n",
       "0                 Пять забавных «морщинистых» пород собак  \n",
       "1                      История улицы Ирининской в  Гомеле  \n",
       "2       Зачем Дудь всё время спрашивает гостей програм...  \n",
       "3                Светлана Зейналова крестила младшую дочь  \n",
       "4       ГКНБ: бандиты в ГБАО делают вид, что рассталис...  "
      ]
     },
     "execution_count": 9,
     "metadata": {},
     "output_type": "execute_result"
    }
   ],
   "source": [
    "items = []\n",
    "with open('items.json') as items_file:\n",
    "    with Pool(28) as p:\n",
    "        items = list(tqdm(p.imap(process_line, items_file), total=items_count))\n",
    "items = pd.DataFrame(items).set_index('itemId')\n",
    "items.head()"
   ]
  },
  {
   "cell_type": "code",
   "execution_count": 10,
   "metadata": {},
   "outputs": [
    {
     "data": {
      "text/plain": [
       "array(['Пять забавных «морщинистых» пород собак',\n",
       "       'История улицы Ирининской в  Гомеле',\n",
       "       'Зачем Дудь всё время спрашивает гостей программы о сексе',\n",
       "       'Светлана Зейналова крестила младшую дочь',\n",
       "       'ГКНБ: бандиты в ГБАО делают вид, что расстались с прошлым'],\n",
       "      dtype=object)"
      ]
     },
     "execution_count": 10,
     "metadata": {},
     "output_type": "execute_result"
    }
   ],
   "source": [
    "items_title = items.title.values\n",
    "items_title[:5]"
   ]
  },
  {
   "cell_type": "code",
   "execution_count": 11,
   "metadata": {},
   "outputs": [
    {
     "data": {
      "text/plain": [
       "12"
      ]
     },
     "execution_count": 11,
     "metadata": {},
     "output_type": "execute_result"
    }
   ],
   "source": [
    "import gc\n",
    "gc.collect()"
   ]
  },
  {
   "cell_type": "code",
   "execution_count": 12,
   "metadata": {},
   "outputs": [
    {
     "data": {
      "application/vnd.jupyter.widget-view+json": {
       "model_id": "a4c00c2d2f904e2e89fe33c8a4dee628",
       "version_major": 2,
       "version_minor": 0
      },
      "text/plain": [
       "HBox(children=(FloatProgress(value=0.0, max=641.0), HTML(value='')))"
      ]
     },
     "metadata": {},
     "output_type": "display_data"
    },
    {
     "name": "stdout",
     "output_type": "stream",
     "text": [
      "\n"
     ]
    },
    {
     "data": {
      "text/plain": [
       "642"
      ]
     },
     "execution_count": 12,
     "metadata": {},
     "output_type": "execute_result"
    }
   ],
   "source": [
    "bert_titles = []\n",
    "batch_size = 512\n",
    "total_len = items_title.shape[0]\n",
    "UNK = total_len\n",
    "total_batches = total_len // batch_size + 1\n",
    "\n",
    "cur_batch_num = 0\n",
    "for cur_batch_num in tqdm(range(total_batches)):\n",
    "    cur_batch = items_title[cur_batch_num * batch_size : min((cur_batch_num + 1) * batch_size, total_len)]\n",
    "    with torch.no_grad():\n",
    "        bert_titles.append(bert(cur_batch)[2])\n",
    "bert_titles.append(np.zeros_like(bert_titles[0][0, :])[np.newaxis, :])\n",
    "len(bert_titles)"
   ]
  },
  {
   "cell_type": "code",
   "execution_count": 13,
   "metadata": {},
   "outputs": [
    {
     "data": {
      "text/plain": [
       "'Согласитесь, дорогие любители собак, до чего же мило и обаятельно выглядят собаки с забавными складками кожи – морщинками! Некоторые такие породы в свое время были остромодными и, соответственно, дефицитными. Цена – не радовала… И все-таки, как полагают наши британские и испанские коллеги, складки-морщинки – знак собачьей нежности и красоты, не больше и не меньше. Давайте с ними согласимся и заодно посмотрим на подборку из пяти «морщинистых» пород.\\n  Столь забавные складки-морщинки, как вы понимаете, появляются у собак не с возрастом и не от старости, как можно было бы подумать. В первую очередь, они возникают из-за генетической предрасположенности, обусловленной большим содержанием в организме так называемой гиалуроновой кислоты. Именно она «ответственна» за столь интересную, мясистую и в глубоких складках кожу. Кстати, мимические морщины у собак тоже бывают, прямо как и у людей, но сегодня речь не о них – а о тех очаровательных складках, которые сводят с ума поклонников данных пород. Сразу оговоримся: ухаживать за кожными складками следует очень аккуратно и осторожно. Отдельные ваши грубоватые вмешательства могут привести к неприятным, даже болевым ощущениям у питомцев. Итак, вы любите собак с «морщинками»? Тогда наша статья для вас, и читайте дальше.\\n  Шарпей. Мы ни секунды не колебались, какую породу поставить на первое место. Шарпеи не только обладатели глубоких складок и морщин. Они, эти самые складки – их визитная карточка. Многих любителей животных переполняет чувство умиления от одного только взгляда на этих чудесных собак, особенно их щенков. Порода родом из Китая. Она абсолютно не игрушечная, как кажется непосвященным людям. Шарпеи преданные и любящие существа. Заведя себе такую собаку, сразу засучивайте рукава и ни в коем случае не распускайте нюни. Собаки уважают только твердую руку. Сразу давайте понять щенку, что хозяин – это вы. Шарпеи, несмотря на их имидж плюшевых медвежат, достаточно своенравные существа, с трудом переживающие вмешательство в собс'"
      ]
     },
     "execution_count": 13,
     "metadata": {},
     "output_type": "execute_result"
    }
   ],
   "source": [
    "items_content = items.content.values\n",
    "items_content[0]"
   ]
  },
  {
   "cell_type": "code",
   "execution_count": 38,
   "metadata": {},
   "outputs": [
    {
     "data": {
      "application/vnd.jupyter.widget-view+json": {
       "model_id": "d7c1494ce1a949bcaf0896f8e0a8f566",
       "version_major": 2,
       "version_minor": 0
      },
      "text/plain": [
       "HBox(children=(FloatProgress(value=0.0, max=2563.0), HTML(value='')))"
      ]
     },
     "metadata": {},
     "output_type": "display_data"
    },
    {
     "ename": "RuntimeError",
     "evalue": "input sequence after bert tokenization cannot exceed 512 tokens.",
     "output_type": "error",
     "traceback": [
      "\u001b[0;31m---------------------------------------------------------------------------\u001b[0m",
      "\u001b[0;31mRuntimeError\u001b[0m                              Traceback (most recent call last)",
      "\u001b[0;32m<ipython-input-38-eaa05d9eed31>\u001b[0m in \u001b[0;36m<module>\u001b[0;34m\u001b[0m\n\u001b[1;32m     10\u001b[0m     \u001b[0mcur_batch\u001b[0m \u001b[0;34m=\u001b[0m \u001b[0mlist\u001b[0m\u001b[0;34m(\u001b[0m\u001b[0mmap\u001b[0m\u001b[0;34m(\u001b[0m\u001b[0;32mlambda\u001b[0m \u001b[0mx\u001b[0m\u001b[0;34m:\u001b[0m \u001b[0;34m' '\u001b[0m\u001b[0;34m.\u001b[0m\u001b[0mjoin\u001b[0m\u001b[0;34m(\u001b[0m\u001b[0mx\u001b[0m\u001b[0;34m.\u001b[0m\u001b[0msplit\u001b[0m\u001b[0;34m(\u001b[0m\u001b[0;34m' '\u001b[0m\u001b[0;34m)\u001b[0m\u001b[0;34m[\u001b[0m\u001b[0;34m:\u001b[0m\u001b[0;36m64\u001b[0m\u001b[0;34m]\u001b[0m\u001b[0;34m)\u001b[0m\u001b[0;34m,\u001b[0m \u001b[0mcur_batch\u001b[0m\u001b[0;34m)\u001b[0m\u001b[0;34m)\u001b[0m\u001b[0;34m\u001b[0m\u001b[0;34m\u001b[0m\u001b[0m\n\u001b[1;32m     11\u001b[0m     \u001b[0;32mwith\u001b[0m \u001b[0mtorch\u001b[0m\u001b[0;34m.\u001b[0m\u001b[0mno_grad\u001b[0m\u001b[0;34m(\u001b[0m\u001b[0;34m)\u001b[0m\u001b[0;34m:\u001b[0m\u001b[0;34m\u001b[0m\u001b[0;34m\u001b[0m\u001b[0m\n\u001b[0;32m---> 12\u001b[0;31m         \u001b[0mbert_content\u001b[0m\u001b[0;34m.\u001b[0m\u001b[0mappend\u001b[0m\u001b[0;34m(\u001b[0m\u001b[0mbert\u001b[0m\u001b[0;34m(\u001b[0m\u001b[0mcur_batch\u001b[0m\u001b[0;34m)\u001b[0m\u001b[0;34m[\u001b[0m\u001b[0;36m2\u001b[0m\u001b[0;34m]\u001b[0m\u001b[0;34m)\u001b[0m\u001b[0;34m\u001b[0m\u001b[0;34m\u001b[0m\u001b[0m\n\u001b[0m\u001b[1;32m     13\u001b[0m \u001b[0mbert_content\u001b[0m\u001b[0;34m.\u001b[0m\u001b[0mappend\u001b[0m\u001b[0;34m(\u001b[0m\u001b[0mnp\u001b[0m\u001b[0;34m.\u001b[0m\u001b[0mzeros_like\u001b[0m\u001b[0;34m(\u001b[0m\u001b[0mbert_content\u001b[0m\u001b[0;34m[\u001b[0m\u001b[0;36m0\u001b[0m\u001b[0;34m]\u001b[0m\u001b[0;34m[\u001b[0m\u001b[0;36m0\u001b[0m\u001b[0;34m,\u001b[0m \u001b[0;34m:\u001b[0m\u001b[0;34m]\u001b[0m\u001b[0;34m)\u001b[0m\u001b[0;34m[\u001b[0m\u001b[0mnp\u001b[0m\u001b[0;34m.\u001b[0m\u001b[0mnewaxis\u001b[0m\u001b[0;34m,\u001b[0m \u001b[0;34m:\u001b[0m\u001b[0;34m]\u001b[0m\u001b[0;34m)\u001b[0m\u001b[0;34m\u001b[0m\u001b[0;34m\u001b[0m\u001b[0m\n\u001b[1;32m     14\u001b[0m \u001b[0mlen\u001b[0m\u001b[0;34m(\u001b[0m\u001b[0mbert_content\u001b[0m\u001b[0;34m)\u001b[0m\u001b[0;34m\u001b[0m\u001b[0;34m\u001b[0m\u001b[0m\n",
      "\u001b[0;32m~/.local/lib/python3.6/site-packages/deeppavlov/core/common/chainer.py\u001b[0m in \u001b[0;36m__call__\u001b[0;34m(self, *args)\u001b[0m\n\u001b[1;32m    205\u001b[0m \u001b[0;34m\u001b[0m\u001b[0m\n\u001b[1;32m    206\u001b[0m     \u001b[0;32mdef\u001b[0m \u001b[0m__call__\u001b[0m\u001b[0;34m(\u001b[0m\u001b[0mself\u001b[0m\u001b[0;34m,\u001b[0m \u001b[0;34m*\u001b[0m\u001b[0margs\u001b[0m\u001b[0;34m)\u001b[0m\u001b[0;34m:\u001b[0m\u001b[0;34m\u001b[0m\u001b[0;34m\u001b[0m\u001b[0m\n\u001b[0;32m--> 207\u001b[0;31m         \u001b[0;32mreturn\u001b[0m \u001b[0mself\u001b[0m\u001b[0;34m.\u001b[0m\u001b[0m_compute\u001b[0m\u001b[0;34m(\u001b[0m\u001b[0;34m*\u001b[0m\u001b[0margs\u001b[0m\u001b[0;34m,\u001b[0m \u001b[0mparam_names\u001b[0m\u001b[0;34m=\u001b[0m\u001b[0mself\u001b[0m\u001b[0;34m.\u001b[0m\u001b[0min_x\u001b[0m\u001b[0;34m,\u001b[0m \u001b[0mpipe\u001b[0m\u001b[0;34m=\u001b[0m\u001b[0mself\u001b[0m\u001b[0;34m.\u001b[0m\u001b[0mpipe\u001b[0m\u001b[0;34m,\u001b[0m \u001b[0mtargets\u001b[0m\u001b[0;34m=\u001b[0m\u001b[0mself\u001b[0m\u001b[0;34m.\u001b[0m\u001b[0mout_params\u001b[0m\u001b[0;34m)\u001b[0m\u001b[0;34m\u001b[0m\u001b[0;34m\u001b[0m\u001b[0m\n\u001b[0m\u001b[1;32m    208\u001b[0m \u001b[0;34m\u001b[0m\u001b[0m\n\u001b[1;32m    209\u001b[0m     \u001b[0;34m@\u001b[0m\u001b[0mstaticmethod\u001b[0m\u001b[0;34m\u001b[0m\u001b[0;34m\u001b[0m\u001b[0m\n",
      "\u001b[0;32m~/.local/lib/python3.6/site-packages/deeppavlov/core/common/chainer.py\u001b[0m in \u001b[0;36m_compute\u001b[0;34m(***failed resolving arguments***)\u001b[0m\n\u001b[1;32m    228\u001b[0m                 \u001b[0mres\u001b[0m \u001b[0;34m=\u001b[0m \u001b[0mcomponent\u001b[0m\u001b[0;34m.\u001b[0m\u001b[0m__call__\u001b[0m\u001b[0;34m(\u001b[0m\u001b[0;34m**\u001b[0m\u001b[0mdict\u001b[0m\u001b[0;34m(\u001b[0m\u001b[0mzip\u001b[0m\u001b[0;34m(\u001b[0m\u001b[0min_keys\u001b[0m\u001b[0;34m,\u001b[0m \u001b[0mx\u001b[0m\u001b[0;34m)\u001b[0m\u001b[0;34m)\u001b[0m\u001b[0;34m)\u001b[0m\u001b[0;34m\u001b[0m\u001b[0;34m\u001b[0m\u001b[0m\n\u001b[1;32m    229\u001b[0m             \u001b[0;32melse\u001b[0m\u001b[0;34m:\u001b[0m\u001b[0;34m\u001b[0m\u001b[0;34m\u001b[0m\u001b[0m\n\u001b[0;32m--> 230\u001b[0;31m                 \u001b[0mres\u001b[0m \u001b[0;34m=\u001b[0m \u001b[0mcomponent\u001b[0m\u001b[0;34m.\u001b[0m\u001b[0m__call__\u001b[0m\u001b[0;34m(\u001b[0m\u001b[0;34m*\u001b[0m\u001b[0mx\u001b[0m\u001b[0;34m)\u001b[0m\u001b[0;34m\u001b[0m\u001b[0;34m\u001b[0m\u001b[0m\n\u001b[0m\u001b[1;32m    231\u001b[0m             \u001b[0;32mif\u001b[0m \u001b[0mlen\u001b[0m\u001b[0;34m(\u001b[0m\u001b[0mout_params\u001b[0m\u001b[0;34m)\u001b[0m \u001b[0;34m==\u001b[0m \u001b[0;36m1\u001b[0m\u001b[0;34m:\u001b[0m\u001b[0;34m\u001b[0m\u001b[0;34m\u001b[0m\u001b[0m\n\u001b[1;32m    232\u001b[0m                 \u001b[0mmem\u001b[0m\u001b[0;34m[\u001b[0m\u001b[0mout_params\u001b[0m\u001b[0;34m[\u001b[0m\u001b[0;36m0\u001b[0m\u001b[0;34m]\u001b[0m\u001b[0;34m]\u001b[0m \u001b[0;34m=\u001b[0m \u001b[0mres\u001b[0m\u001b[0;34m\u001b[0m\u001b[0;34m\u001b[0m\u001b[0m\n",
      "\u001b[0;32m~/.local/lib/python3.6/site-packages/deeppavlov/models/preprocessors/transformers_preprocessor.py\u001b[0m in \u001b[0;36m__call__\u001b[0;34m(self, tokens_batch)\u001b[0m\n\u001b[1;32m     63\u001b[0m             \u001b[0msubtokens\u001b[0m\u001b[0;34m.\u001b[0m\u001b[0mappend\u001b[0m\u001b[0;34m(\u001b[0m\u001b[0;34m'[SEP]'\u001b[0m\u001b[0;34m)\u001b[0m\u001b[0;34m\u001b[0m\u001b[0;34m\u001b[0m\u001b[0m\n\u001b[1;32m     64\u001b[0m             \u001b[0;32mif\u001b[0m \u001b[0mlen\u001b[0m\u001b[0;34m(\u001b[0m\u001b[0msubtokens\u001b[0m\u001b[0;34m)\u001b[0m \u001b[0;34m>\u001b[0m \u001b[0mself\u001b[0m\u001b[0;34m.\u001b[0m\u001b[0mmax_seq_length\u001b[0m\u001b[0;34m:\u001b[0m\u001b[0;34m\u001b[0m\u001b[0;34m\u001b[0m\u001b[0m\n\u001b[0;32m---> 65\u001b[0;31m                 raise RuntimeError(f\"input sequence after bert tokenization\"\n\u001b[0m\u001b[1;32m     66\u001b[0m                                    f\" cannot exceed {self.max_seq_length} tokens.\")\n\u001b[1;32m     67\u001b[0m \u001b[0;34m\u001b[0m\u001b[0m\n",
      "\u001b[0;31mRuntimeError\u001b[0m: input sequence after bert tokenization cannot exceed 512 tokens."
     ]
    }
   ],
   "source": [
    "bert_content = []\n",
    "batch_size = 128\n",
    "total_len = items_content.shape[0]\n",
    "UNK = total_len\n",
    "total_batches = total_len // batch_size + 1\n",
    "\n",
    "cur_batch_num = 0\n",
    "for cur_batch_num in tqdm(range(total_batches)):\n",
    "    cur_batch = items_content[cur_batch_num * batch_size : min((cur_batch_num + 1) * batch_size, total_len)]\n",
    "    cur_batch = list(map(lambda x: ' '.join(x.split(' ')[:64]), cur_batch))\n",
    "    with torch.no_grad():\n",
    "        bert_content.append(bert(cur_batch)[2])\n",
    "bert_content.append(np.zeros_like(bert_content[0][0, :])[np.newaxis, :])\n",
    "len(bert_content)"
   ]
  },
  {
   "cell_type": "code",
   "execution_count": 25,
   "metadata": {},
   "outputs": [],
   "source": [
    "gc.collect()\n",
    "torch.cuda.empty_cache()"
   ]
  },
  {
   "cell_type": "code",
   "execution_count": 41,
   "metadata": {},
   "outputs": [
    {
     "data": {
      "application/vnd.jupyter.widget-view+json": {
       "model_id": "23e70f402f2f46ebab7c9abb6f873188",
       "version_major": 2,
       "version_minor": 0
      },
      "text/plain": [
       "HBox(children=(FloatProgress(value=0.0, max=1147.0), HTML(value='')))"
      ]
     },
     "metadata": {},
     "output_type": "display_data"
    },
    {
     "name": "stdout",
     "output_type": "stream",
     "text": [
      "\n",
      "\n",
      "\n"
     ]
    }
   ],
   "source": [
    "for cur_batch_num in tqdm(range(cur_batch_num, total_batches)):\n",
    "    cur_batch = items_content[cur_batch_num * batch_size : min((cur_batch_num + 1) * batch_size, total_len)]\n",
    "    cur_batch = list(map(lambda x: ' '.join(x.split(' ')[:64]), cur_batch))\n",
    "    with torch.no_grad():\n",
    "        try:\n",
    "            bert_content.append(bert(cur_batch)[2])\n",
    "        except RuntimeError:\n",
    "            cur_batch = list(map(lambda x: ' '.join(x.split(' ')[:16]), cur_batch))\n",
    "            bert_content.append(bert(cur_batch)[2])\n",
    "bert_content.append(np.zeros_like(bert_content[0][0, :])[np.newaxis, :])"
   ]
  },
  {
   "cell_type": "code",
   "execution_count": 42,
   "metadata": {},
   "outputs": [
    {
     "data": {
      "text/plain": [
       "2564"
      ]
     },
     "execution_count": 42,
     "metadata": {},
     "output_type": "execute_result"
    }
   ],
   "source": [
    "len(bert_content)"
   ]
  },
  {
   "cell_type": "code",
   "execution_count": 44,
   "metadata": {},
   "outputs": [
    {
     "data": {
      "text/plain": [
       "((328051, 768), (328051, 768))"
      ]
     },
     "execution_count": 44,
     "metadata": {},
     "output_type": "execute_result"
    }
   ],
   "source": [
    "titles_embeddings = np.concatenate(bert_titles, axis=0)\n",
    "content_embeddings = np.concatenate(bert_content, axis=0)\n",
    "titles_embeddings.shape, content_embeddings.shape"
   ]
  },
  {
   "cell_type": "code",
   "execution_count": 46,
   "metadata": {},
   "outputs": [
    {
     "data": {
      "text/html": [
       "<div>\n",
       "<style scoped>\n",
       "    .dataframe tbody tr th:only-of-type {\n",
       "        vertical-align: middle;\n",
       "    }\n",
       "\n",
       "    .dataframe tbody tr th {\n",
       "        vertical-align: top;\n",
       "    }\n",
       "\n",
       "    .dataframe thead th {\n",
       "        text-align: right;\n",
       "    }\n",
       "</style>\n",
       "<table border=\"1\" class=\"dataframe\">\n",
       "  <thead>\n",
       "    <tr style=\"text-align: right;\">\n",
       "      <th></th>\n",
       "      <th>content</th>\n",
       "      <th>image</th>\n",
       "      <th>title</th>\n",
       "      <th>title_embedding</th>\n",
       "      <th>content_embedding</th>\n",
       "    </tr>\n",
       "    <tr>\n",
       "      <th>itemId</th>\n",
       "      <th></th>\n",
       "      <th></th>\n",
       "      <th></th>\n",
       "      <th></th>\n",
       "      <th></th>\n",
       "    </tr>\n",
       "  </thead>\n",
       "  <tbody>\n",
       "    <tr>\n",
       "      <th>0</th>\n",
       "      <td>Согласитесь, дорогие любители собак, до чего ж...</td>\n",
       "      <td>[-0.169, 0.129, 0.067, 0.019, 0.281, -0.245, 0...</td>\n",
       "      <td>Пять забавных «морщинистых» пород собак</td>\n",
       "      <td>[-0.13784322, -0.2494488, -0.052675568, 0.0674...</td>\n",
       "      <td>[0.0017429275, -0.13621575, -0.005446423, -0.0...</td>\n",
       "    </tr>\n",
       "    <tr>\n",
       "      <th>1</th>\n",
       "      <td>Контуры Третьей Поперечной улицы, состоявшей ...</td>\n",
       "      <td>[-0.158, -0.112, -0.325, 0.05, -0.114, 0.002, ...</td>\n",
       "      <td>История улицы Ирининской в  Гомеле</td>\n",
       "      <td>[-0.18086486, -0.438953, 0.20550759, -0.586738...</td>\n",
       "      <td>[-0.20222285, -0.3154842, 0.07183142, -0.21042...</td>\n",
       "    </tr>\n",
       "    <tr>\n",
       "      <th>2</th>\n",
       "      <td>Источник: http://infodays.ru Вообще он как-то ...</td>\n",
       "      <td>[0.084, -0.181, 0.008, 0.34, -0.03, -0.197, -0...</td>\n",
       "      <td>Зачем Дудь всё время спрашивает гостей програм...</td>\n",
       "      <td>[-0.29486495, -0.086909056, 0.0169366, -0.2004...</td>\n",
       "      <td>[-0.13806573, -0.14691418, 0.0037532346, -0.24...</td>\n",
       "    </tr>\n",
       "    <tr>\n",
       "      <th>3</th>\n",
       "      <td>41-летняя Светлана Зейналова решила окрестить ...</td>\n",
       "      <td>[0.034, -0.119, -0.062, 0.025, 0.128, -0.041, ...</td>\n",
       "      <td>Светлана Зейналова крестила младшую дочь</td>\n",
       "      <td>[-0.011012467, -0.5578447, 0.37506068, -0.5651...</td>\n",
       "      <td>[0.07046502, -0.40018868, 0.20598526, -0.52284...</td>\n",
       "    </tr>\n",
       "    <tr>\n",
       "      <th>4</th>\n",
       "      <td>«Организованные преступные группировки ГБАО де...</td>\n",
       "      <td>[-0.061, -0.015, -0.198, -0.047, 0.054, 0.029,...</td>\n",
       "      <td>ГКНБ: бандиты в ГБАО делают вид, что рассталис...</td>\n",
       "      <td>[-0.18723457, -0.45224637, 0.14010152, -0.6870...</td>\n",
       "      <td>[-0.15916014, -0.47234368, 0.06936865, -0.6120...</td>\n",
       "    </tr>\n",
       "  </tbody>\n",
       "</table>\n",
       "</div>"
      ],
      "text/plain": [
       "                                                  content  \\\n",
       "itemId                                                      \n",
       "0       Согласитесь, дорогие любители собак, до чего ж...   \n",
       "1        Контуры Третьей Поперечной улицы, состоявшей ...   \n",
       "2       Источник: http://infodays.ru Вообще он как-то ...   \n",
       "3       41-летняя Светлана Зейналова решила окрестить ...   \n",
       "4       «Организованные преступные группировки ГБАО де...   \n",
       "\n",
       "                                                    image  \\\n",
       "itemId                                                      \n",
       "0       [-0.169, 0.129, 0.067, 0.019, 0.281, -0.245, 0...   \n",
       "1       [-0.158, -0.112, -0.325, 0.05, -0.114, 0.002, ...   \n",
       "2       [0.084, -0.181, 0.008, 0.34, -0.03, -0.197, -0...   \n",
       "3       [0.034, -0.119, -0.062, 0.025, 0.128, -0.041, ...   \n",
       "4       [-0.061, -0.015, -0.198, -0.047, 0.054, 0.029,...   \n",
       "\n",
       "                                                    title  \\\n",
       "itemId                                                      \n",
       "0                 Пять забавных «морщинистых» пород собак   \n",
       "1                      История улицы Ирининской в  Гомеле   \n",
       "2       Зачем Дудь всё время спрашивает гостей програм...   \n",
       "3                Светлана Зейналова крестила младшую дочь   \n",
       "4       ГКНБ: бандиты в ГБАО делают вид, что рассталис...   \n",
       "\n",
       "                                          title_embedding  \\\n",
       "itemId                                                      \n",
       "0       [-0.13784322, -0.2494488, -0.052675568, 0.0674...   \n",
       "1       [-0.18086486, -0.438953, 0.20550759, -0.586738...   \n",
       "2       [-0.29486495, -0.086909056, 0.0169366, -0.2004...   \n",
       "3       [-0.011012467, -0.5578447, 0.37506068, -0.5651...   \n",
       "4       [-0.18723457, -0.45224637, 0.14010152, -0.6870...   \n",
       "\n",
       "                                        content_embedding  \n",
       "itemId                                                     \n",
       "0       [0.0017429275, -0.13621575, -0.005446423, -0.0...  \n",
       "1       [-0.20222285, -0.3154842, 0.07183142, -0.21042...  \n",
       "2       [-0.13806573, -0.14691418, 0.0037532346, -0.24...  \n",
       "3       [0.07046502, -0.40018868, 0.20598526, -0.52284...  \n",
       "4       [-0.15916014, -0.47234368, 0.06936865, -0.6120...  "
      ]
     },
     "execution_count": 46,
     "metadata": {},
     "output_type": "execute_result"
    }
   ],
   "source": [
    "items['title_embedding'] = pd.Series(map(lambda x:[x], titles_embeddings)).apply(lambda x:x[0])\n",
    "items['content_embedding'] = pd.Series(map(lambda x:[x], content_embeddings)).apply(lambda x:x[0])\n",
    "items.head()"
   ]
  },
  {
   "cell_type": "code",
   "execution_count": 54,
   "metadata": {},
   "outputs": [],
   "source": [
    "np.save('/data/vnkljukin/title_embeddings_bert', titles_embeddings)"
   ]
  },
  {
   "cell_type": "code",
   "execution_count": 55,
   "metadata": {},
   "outputs": [],
   "source": [
    "np.save('/data/vnkljukin/content_embeddings_bert', content_embeddings)"
   ]
  },
  {
   "cell_type": "code",
   "execution_count": 57,
   "metadata": {},
   "outputs": [],
   "source": [
    "del bert\n",
    "gc.collect()\n",
    "torch.cuda.empty_cache()"
   ]
  },
  {
   "cell_type": "code",
   "execution_count": null,
   "metadata": {},
   "outputs": [],
   "source": []
  }
 ],
 "metadata": {
  "kernelspec": {
   "display_name": "Python 3",
   "language": "python",
   "name": "python3"
  },
  "language_info": {
   "codemirror_mode": {
    "name": "ipython",
    "version": 3
   },
   "file_extension": ".py",
   "mimetype": "text/x-python",
   "name": "python",
   "nbconvert_exporter": "python",
   "pygments_lexer": "ipython3",
   "version": "3.6.9"
  }
 },
 "nbformat": 4,
 "nbformat_minor": 4
}
