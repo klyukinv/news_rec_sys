{
 "cells": [
  {
   "cell_type": "code",
   "execution_count": 1,
   "metadata": {},
   "outputs": [],
   "source": [
    "import pandas as pd\n",
    "import numpy as np\n",
    "import matplotlib.pyplot as plt\n",
    "\n",
    "import scipy\n",
    "import json\n",
    "import string\n",
    "import pymorphy2\n",
    "import lightfm\n",
    "\n",
    "from sklearn.feature_extraction.text import TfidfVectorizer\n",
    "from tqdm import tqdm_notebook\n",
    "from multiprocessing import cpu_count, Pool"
   ]
  },
  {
   "cell_type": "code",
   "execution_count": 2,
   "metadata": {},
   "outputs": [],
   "source": [
    "punctuation = string.punctuation\n",
    "mapping = str.maketrans(punctuation, ' ' * len(punctuation))\n",
    "ma = pymorphy2.MorphAnalyzer()\n",
    "\n",
    "def normalize_text(s):\n",
    "    normalized_splitted = [ma.normal_forms(word)[0] for word in s.translate(mapping).lower().split()]\n",
    "    return \" \".join(normalized_splitted)\n",
    "\n",
    "def normalize_line(line):\n",
    "    item = json.loads(line)\n",
    "    item['content'] = normalize_text(item['content'])\n",
    "    item['title'] = normalize_text(item['title'])\n",
    "    if isinstance(item['image'], float):\n",
    "        item['image'] = np.zeros((96,))\n",
    "    else:\n",
    "        item['image'] = np.array(item['image'])\n",
    "    return item"
   ]
  },
  {
   "cell_type": "code",
   "execution_count": 3,
   "metadata": {
    "scrolled": true
   },
   "outputs": [
    {
     "data": {
      "text/html": [
       "<div>\n",
       "<style scoped>\n",
       "    .dataframe tbody tr th:only-of-type {\n",
       "        vertical-align: middle;\n",
       "    }\n",
       "\n",
       "    .dataframe tbody tr th {\n",
       "        vertical-align: top;\n",
       "    }\n",
       "\n",
       "    .dataframe thead th {\n",
       "        text-align: right;\n",
       "    }\n",
       "</style>\n",
       "<table border=\"1\" class=\"dataframe\">\n",
       "  <thead>\n",
       "    <tr style=\"text-align: right;\">\n",
       "      <th></th>\n",
       "      <th>content</th>\n",
       "      <th>itemId</th>\n",
       "      <th>image</th>\n",
       "      <th>title</th>\n",
       "    </tr>\n",
       "  </thead>\n",
       "  <tbody>\n",
       "    <tr>\n",
       "      <th>0</th>\n",
       "      <td>Согласитесь, дорогие любители собак, до чего ж...</td>\n",
       "      <td>0</td>\n",
       "      <td>[-0.169, 0.129, 0.067, 0.019, 0.281, -0.245, 0...</td>\n",
       "      <td>Пять забавных «морщинистых» пород собак</td>\n",
       "    </tr>\n",
       "    <tr>\n",
       "      <th>1</th>\n",
       "      <td>Контуры Третьей Поперечной улицы, состоявшей ...</td>\n",
       "      <td>1</td>\n",
       "      <td>[-0.158, -0.112, -0.325, 0.05, -0.114, 0.002, ...</td>\n",
       "      <td>История улицы Ирининской в  Гомеле</td>\n",
       "    </tr>\n",
       "    <tr>\n",
       "      <th>2</th>\n",
       "      <td>Источник: http://infodays.ru Вообще он как-то ...</td>\n",
       "      <td>2</td>\n",
       "      <td>[0.084, -0.181, 0.008, 0.34, -0.03, -0.197, -0...</td>\n",
       "      <td>Зачем Дудь всё время спрашивает гостей програм...</td>\n",
       "    </tr>\n",
       "    <tr>\n",
       "      <th>3</th>\n",
       "      <td>41-летняя Светлана Зейналова решила окрестить ...</td>\n",
       "      <td>3</td>\n",
       "      <td>[0.034, -0.119, -0.062, 0.025, 0.128, -0.041, ...</td>\n",
       "      <td>Светлана Зейналова крестила младшую дочь</td>\n",
       "    </tr>\n",
       "    <tr>\n",
       "      <th>4</th>\n",
       "      <td>«Организованные преступные группировки ГБАО де...</td>\n",
       "      <td>4</td>\n",
       "      <td>[-0.061, -0.015, -0.198, -0.047, 0.054, 0.029,...</td>\n",
       "      <td>ГКНБ: бандиты в ГБАО делают вид, что рассталис...</td>\n",
       "    </tr>\n",
       "  </tbody>\n",
       "</table>\n",
       "</div>"
      ],
      "text/plain": [
       "                                             content  itemId  \\\n",
       "0  Согласитесь, дорогие любители собак, до чего ж...       0   \n",
       "1   Контуры Третьей Поперечной улицы, состоявшей ...       1   \n",
       "2  Источник: http://infodays.ru Вообще он как-то ...       2   \n",
       "3  41-летняя Светлана Зейналова решила окрестить ...       3   \n",
       "4  «Организованные преступные группировки ГБАО де...       4   \n",
       "\n",
       "                                               image  \\\n",
       "0  [-0.169, 0.129, 0.067, 0.019, 0.281, -0.245, 0...   \n",
       "1  [-0.158, -0.112, -0.325, 0.05, -0.114, 0.002, ...   \n",
       "2  [0.084, -0.181, 0.008, 0.34, -0.03, -0.197, -0...   \n",
       "3  [0.034, -0.119, -0.062, 0.025, 0.128, -0.041, ...   \n",
       "4  [-0.061, -0.015, -0.198, -0.047, 0.054, 0.029,...   \n",
       "\n",
       "                                               title  \n",
       "0            Пять забавных «морщинистых» пород собак  \n",
       "1                 История улицы Ирининской в  Гомеле  \n",
       "2  Зачем Дудь всё время спрашивает гостей програм...  \n",
       "3           Светлана Зейналова крестила младшую дочь  \n",
       "4  ГКНБ: бандиты в ГБАО делают вид, что рассталис...  "
      ]
     },
     "execution_count": 3,
     "metadata": {},
     "output_type": "execute_result"
    }
   ],
   "source": [
    "with open('items.json') as items_json:\n",
    "    with Pool(cpu_count()) as pool:\n",
    "        items_json_list = list(pool.imap(normalize_line, items_json))\n",
    "        \n",
    "items = pd.DataFrame(items_json_list)\n",
    "items.set_index('itemId')\n",
    "items.head()"
   ]
  },
  {
   "cell_type": "code",
   "execution_count": 4,
   "metadata": {},
   "outputs": [
    {
     "name": "stderr",
     "output_type": "stream",
     "text": [
      "[nltk_data] Downloading package stopwords to\n",
      "[nltk_data]     /home/valeriy/nltk_data...\n",
      "[nltk_data]   Package stopwords is already up-to-date!\n"
     ]
    }
   ],
   "source": [
    "import nltk\n",
    "nltk.download(\"stopwords\")\n",
    "#--------#\n",
    "\n",
    "from nltk.corpus import stopwords"
   ]
  },
  {
   "cell_type": "code",
   "execution_count": 8,
   "metadata": {},
   "outputs": [
    {
     "data": {
      "text/html": [
       "<div>\n",
       "<style scoped>\n",
       "    .dataframe tbody tr th:only-of-type {\n",
       "        vertical-align: middle;\n",
       "    }\n",
       "\n",
       "    .dataframe tbody tr th {\n",
       "        vertical-align: top;\n",
       "    }\n",
       "\n",
       "    .dataframe thead th {\n",
       "        text-align: right;\n",
       "    }\n",
       "</style>\n",
       "<table border=\"1\" class=\"dataframe\">\n",
       "  <thead>\n",
       "    <tr style=\"text-align: right;\">\n",
       "      <th></th>\n",
       "      <th>content</th>\n",
       "      <th>image</th>\n",
       "      <th>title</th>\n",
       "    </tr>\n",
       "    <tr>\n",
       "      <th>itemId</th>\n",
       "      <th></th>\n",
       "      <th></th>\n",
       "      <th></th>\n",
       "    </tr>\n",
       "  </thead>\n",
       "  <tbody>\n",
       "    <tr>\n",
       "      <th>0</th>\n",
       "      <td>согласиться дорогой любитель собака до что же ...</td>\n",
       "      <td>[-0.169, 0.129, 0.067, 0.019, 0.281, -0.245, 0...</td>\n",
       "      <td>пять забавный морщинистый порода собака</td>\n",
       "    </tr>\n",
       "    <tr>\n",
       "      <th>1</th>\n",
       "      <td>контур три поперечный улица состоять до недавн...</td>\n",
       "      <td>[-0.158, -0.112, -0.325, 0.05, -0.114, 0.002, ...</td>\n",
       "      <td>история улица ирининский в гомель</td>\n",
       "    </tr>\n",
       "    <tr>\n",
       "      <th>2</th>\n",
       "      <td>источник http infodays ru вообще он как то сам...</td>\n",
       "      <td>[0.084, -0.181, 0.008, 0.34, -0.03, -0.197, -0...</td>\n",
       "      <td>зачем дудь весь время спрашивать гость програм...</td>\n",
       "    </tr>\n",
       "    <tr>\n",
       "      <th>3</th>\n",
       "      <td>41 летний светлана зейналов решить окрестить 5...</td>\n",
       "      <td>[0.034, -0.119, -0.062, 0.025, 0.128, -0.041, ...</td>\n",
       "      <td>светлана зейналов крестить младший дочь</td>\n",
       "    </tr>\n",
       "    <tr>\n",
       "      <th>4</th>\n",
       "      <td>организовать преступный группировка гбао делат...</td>\n",
       "      <td>[-0.061, -0.015, -0.198, -0.047, 0.054, 0.029,...</td>\n",
       "      <td>гкнб бандит в гбао делать вид что расстаться с...</td>\n",
       "    </tr>\n",
       "  </tbody>\n",
       "</table>\n",
       "</div>"
      ],
      "text/plain": [
       "                                                  content  \\\n",
       "itemId                                                      \n",
       "0       согласиться дорогой любитель собака до что же ...   \n",
       "1       контур три поперечный улица состоять до недавн...   \n",
       "2       источник http infodays ru вообще он как то сам...   \n",
       "3       41 летний светлана зейналов решить окрестить 5...   \n",
       "4       организовать преступный группировка гбао делат...   \n",
       "\n",
       "                                                    image  \\\n",
       "itemId                                                      \n",
       "0       [-0.169, 0.129, 0.067, 0.019, 0.281, -0.245, 0...   \n",
       "1       [-0.158, -0.112, -0.325, 0.05, -0.114, 0.002, ...   \n",
       "2       [0.084, -0.181, 0.008, 0.34, -0.03, -0.197, -0...   \n",
       "3       [0.034, -0.119, -0.062, 0.025, 0.128, -0.041, ...   \n",
       "4       [-0.061, -0.015, -0.198, -0.047, 0.054, 0.029,...   \n",
       "\n",
       "                                                    title  \n",
       "itemId                                                     \n",
       "0                 пять забавный морщинистый порода собака  \n",
       "1                       история улица ирининский в гомель  \n",
       "2       зачем дудь весь время спрашивать гость програм...  \n",
       "3                 светлана зейналов крестить младший дочь  \n",
       "4       гкнб бандит в гбао делать вид что расстаться с...  "
      ]
     },
     "execution_count": 8,
     "metadata": {},
     "output_type": "execute_result"
    }
   ],
   "source": [
    "items_ = pd.read_csv('../../data/processed/processed_items.csv', index_col='itemId')\n",
    "items_['image'] = items['image']\n",
    "del items\n",
    "items = items_\n",
    "items.head()"
   ]
  },
  {
   "cell_type": "code",
   "execution_count": 9,
   "metadata": {},
   "outputs": [],
   "source": [
    "items['title'].fillna('', inplace=True)\n",
    "items['content'].fillna('', inplace=True)"
   ]
  },
  {
   "cell_type": "code",
   "execution_count": 10,
   "metadata": {},
   "outputs": [
    {
     "data": {
      "text/plain": [
       "(328050, 3659)"
      ]
     },
     "execution_count": 10,
     "metadata": {},
     "output_type": "execute_result"
    }
   ],
   "source": [
    "vectorizer = TfidfVectorizer(lowercase=False,\n",
    "                             ngram_range=(1, 2),\n",
    "                             min_df=100,\n",
    "                             max_df=0.01,\n",
    "                             stop_words=stopwords.words('russian'))\n",
    "title_tfidf = vectorizer.fit_transform(items['title'])\n",
    "title_tfidf.shape"
   ]
  },
  {
   "cell_type": "code",
   "execution_count": 11,
   "metadata": {},
   "outputs": [
    {
     "data": {
      "text/plain": [
       "(328050, 23589)"
      ]
     },
     "execution_count": 11,
     "metadata": {},
     "output_type": "execute_result"
    }
   ],
   "source": [
    "vectorizer = TfidfVectorizer(lowercase=False,\n",
    "                             min_df=100,\n",
    "                             max_df=0.01,\n",
    "                             stop_words=stopwords.words('russian'))\n",
    "content_tfidf = vectorizer.fit_transform(items['content'])\n",
    "content_tfidf.shape"
   ]
  },
  {
   "cell_type": "code",
   "execution_count": 12,
   "metadata": {},
   "outputs": [],
   "source": [
    "item_features = scipy.sparse.hstack((scipy.sparse.eye(items.shape[0]), \n",
    "                                     title_tfidf,\n",
    "                                     content_tfidf,\n",
    "                                     np.array(items['image'].to_list())),\n",
    "                                    format='csr')"
   ]
  },
  {
   "cell_type": "code",
   "execution_count": 13,
   "metadata": {},
   "outputs": [
    {
     "data": {
      "text/plain": [
       "55"
      ]
     },
     "execution_count": 13,
     "metadata": {},
     "output_type": "execute_result"
    }
   ],
   "source": [
    "import gc\n",
    "gc.collect()"
   ]
  },
  {
   "cell_type": "code",
   "execution_count": 14,
   "metadata": {},
   "outputs": [
    {
     "name": "stderr",
     "output_type": "stream",
     "text": [
      "/usr/local/lib/python3.6/dist-packages/ipykernel_launcher.py:8: TqdmDeprecationWarning: This function will be removed in tqdm==5.0.0\n",
      "Please use `tqdm.notebook.tqdm` instead of `tqdm.tqdm_notebook`\n",
      "  \n"
     ]
    },
    {
     "data": {
      "application/vnd.jupyter.widget-view+json": {
       "model_id": "2f397461ef7745b78b56ac8a1b9752ed",
       "version_major": 2,
       "version_minor": 0
      },
      "text/plain": [
       "HBox(children=(FloatProgress(value=0.0, max=42977.0), HTML(value='')))"
      ]
     },
     "metadata": {},
     "output_type": "display_data"
    },
    {
     "name": "stdout",
     "output_type": "stream",
     "text": [
      "\n"
     ]
    }
   ],
   "source": [
    "ratings = []\n",
    "row = []\n",
    "col = []\n",
    "\n",
    "train_lines = sum(1 for line in open('train.json','r'))\n",
    "\n",
    "with open('train.json') as train_file:\n",
    "    for i, line in enumerate(tqdm_notebook(train_file, total=train_lines)):\n",
    "        json_line = json.loads(line)\n",
    "        for item, rating in json_line['trainRatings'].items():\n",
    "            ratings.append(int(rating))\n",
    "            row.append(i)\n",
    "            col.append(int(item))\n",
    "train_int = scipy.sparse.coo_matrix((ratings, (row, col)))"
   ]
  },
  {
   "cell_type": "code",
   "execution_count": 15,
   "metadata": {},
   "outputs": [],
   "source": [
    "del ratings, row, col"
   ]
  },
  {
   "cell_type": "code",
   "execution_count": 16,
   "metadata": {},
   "outputs": [
    {
     "data": {
      "text/plain": [
       "3"
      ]
     },
     "execution_count": 16,
     "metadata": {},
     "output_type": "execute_result"
    }
   ],
   "source": [
    "gc.collect()"
   ]
  },
  {
   "cell_type": "code",
   "execution_count": null,
   "metadata": {},
   "outputs": [
    {
     "name": "stdout",
     "output_type": "stream",
     "text": [
      "Epoch 0\n",
      "Epoch 1\n",
      "Epoch 2\n",
      "Epoch 3\n",
      "Epoch 4\n",
      "Epoch 5\n",
      "Epoch 6\n",
      "Epoch 7\n",
      "Epoch 8\n",
      "Epoch 9\n",
      "Epoch 10\n",
      "Epoch 11\n",
      "Epoch 12\n",
      "Epoch 13\n",
      "Epoch 14\n",
      "Epoch 15\n",
      "Epoch 16\n",
      "Epoch 17\n"
     ]
    }
   ],
   "source": [
    "model = lightfm.LightFM(no_components=64, loss='warp', learning_schedule='adadelta', random_state=42)\n",
    "model.fit(train_int, epochs=25, num_threads=cpu_count(), item_features=item_features, verbose=True)"
   ]
  },
  {
   "cell_type": "code",
   "execution_count": null,
   "metadata": {},
   "outputs": [],
   "source": [
    "sample = pd.read_csv('random_benchmark.csv')\n",
    "sample['y_pred'] = model.predict(\n",
    "    sample['userId'].values,\n",
    "    sample['itemId'].values,\n",
    "    item_features=item_features,\n",
    "    num_threads=cpu_count(),\n",
    ")\n",
    "sample.sort_values(['userId', 'y_pred'], ascending=[True, False], inplace=True)\n",
    "sample.drop(columns=['y_pred'], inplace=True)\n",
    "sample.to_csv('lightfm_everything_warp_25_epochs_64_comps.csv', index=False)"
   ]
  },
  {
   "cell_type": "code",
   "execution_count": null,
   "metadata": {},
   "outputs": [],
   "source": [
    "!kaggle competitions submit -c recsys-iad-challenge -f lightfm_everything_warp_25_epochs_64_comps.csv -m \"everything tfidf warp loss 25 epochs\""
   ]
  },
  {
   "cell_type": "code",
   "execution_count": 57,
   "metadata": {},
   "outputs": [
    {
     "name": "stdout",
     "output_type": "stream",
     "text": [
      "100%|██████████████████████████████████████| 35.7M/35.7M [00:07<00:00, 4.76MB/s]\n",
      "Successfully submitted to Articles RecSys"
     ]
    }
   ],
   "source": [
    "!kaggle competitions submit -c recsys-iad-challenge -f lightfm_everything_warp_5_epochs.csv -m \"everything tfidf warp loss 5 epochs\""
   ]
  },
  {
   "cell_type": "code",
   "execution_count": null,
   "metadata": {},
   "outputs": [],
   "source": []
  }
 ],
 "metadata": {
  "kernelspec": {
   "display_name": "Python 3",
   "language": "python",
   "name": "python3"
  },
  "language_info": {
   "codemirror_mode": {
    "name": "ipython",
    "version": 3
   },
   "file_extension": ".py",
   "mimetype": "text/x-python",
   "name": "python",
   "nbconvert_exporter": "python",
   "pygments_lexer": "ipython3",
   "version": "3.6.9"
  }
 },
 "nbformat": 4,
 "nbformat_minor": 2
}
